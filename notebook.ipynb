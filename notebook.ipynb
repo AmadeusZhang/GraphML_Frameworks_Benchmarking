{
 "cells": [
  {
   "cell_type": "code",
   "execution_count": 1,
   "metadata": {
    "pycharm": {
     "name": "#%%\n"
    }
   },
   "outputs": [],
   "source": [
    "import os\n",
    "import networkx as nx\n",
    "import pandas as pd\n",
    "\n",
    "import json\n",
    "\n",
    "from IPython.display import display, HTML\n",
    "\n",
    "import itertools"
   ]
  },
  {
   "attachments": {},
   "cell_type": "markdown",
   "metadata": {
    "pycharm": {
     "name": "#%% md\n"
    }
   },
   "source": [
    "# Cora"
   ]
  },
  {
   "cell_type": "code",
   "execution_count": null,
   "metadata": {
    "pycharm": {
     "name": "#%%\n"
    }
   },
   "outputs": [],
   "source": [
    "# cora\n",
    "data_dir = os.path.join(os.getcwd(), 'data\\cora')"
   ]
  },
  {
   "cell_type": "code",
   "execution_count": null,
   "metadata": {
    "pycharm": {
     "name": "#%%\n"
    }
   },
   "outputs": [],
   "source": [
    "# import edge list\n",
    "edgelist = pd.read_csv(\n",
    "    os.path.join(data_dir, \"cora.cites\"),\n",
    "    sep='\\t',\n",
    "    header=None,\n",
    "    names=[\"target\", \"source\"]\n",
    ")\n",
    "edgelist[\"label\"] = \"cites\""
   ]
  },
  {
   "cell_type": "code",
   "execution_count": null,
   "metadata": {
    "pycharm": {
     "name": "#%%\n"
    }
   },
   "outputs": [],
   "source": [
    "display(edgelist.head(5))"
   ]
  },
  {
   "cell_type": "code",
   "execution_count": null,
   "metadata": {
    "pycharm": {
     "name": "#%%\n"
    }
   },
   "outputs": [],
   "source": [
    "G = nx.from_pandas_edgelist(edgelist, edge_attr=\"label\")"
   ]
  },
  {
   "cell_type": "code",
   "execution_count": null,
   "metadata": {
    "pycharm": {
     "name": "#%%\n"
    }
   },
   "outputs": [],
   "source": [
    "# type of nodes\n",
    "for node in G.nodes():\n",
    "    print(node, type(node))\n",
    "    break"
   ]
  },
  {
   "cell_type": "code",
   "execution_count": null,
   "metadata": {
    "pycharm": {
     "name": "#%%\n"
    }
   },
   "outputs": [],
   "source": [
    "nx.set_node_attributes(G, \"paper\", \"label\")"
   ]
  },
  {
   "cell_type": "code",
   "execution_count": null,
   "metadata": {
    "pycharm": {
     "name": "#%%\n"
    }
   },
   "outputs": [],
   "source": [
    "# print a sample node\n",
    "G.nodes[1103985]        # nodes without attributes"
   ]
  },
  {
   "cell_type": "code",
   "execution_count": null,
   "metadata": {
    "pycharm": {
     "name": "#%%\n"
    }
   },
   "outputs": [],
   "source": [
    "_NUM_FEATURES = 1433"
   ]
  },
  {
   "cell_type": "code",
   "execution_count": null,
   "metadata": {
    "pycharm": {
     "name": "#%%\n"
    }
   },
   "outputs": [],
   "source": [
    "feature_names = [ \"w_{}\".format(ii) for ii in range( _NUM_FEATURES ) ]\n",
    "column_names =  feature_names + [\"subject\"]\n",
    "node_list = pd.read_csv(\n",
    "    os.path.join(data_dir, \"cora.content\"), \n",
    "    sep='\\t', \n",
    "    header=None, \n",
    "    names=column_names\n",
    ")"
   ]
  },
  {
   "cell_type": "code",
   "execution_count": null,
   "metadata": {
    "pycharm": {
     "name": "#%%\n"
    }
   },
   "outputs": [],
   "source": [
    "# gather features and save scalar per attribute\n",
    "for ii, row in node_list.iterrows():\n",
    "    node_id = row.name\n",
    "    node_subject = row[\"subject\"]\n",
    "\n",
    "    for _ in row.index:\n",
    "        if _ in feature_names:\n",
    "            G.nodes[node_id][_] = row[_]"
   ]
  },
  {
   "cell_type": "code",
   "execution_count": null,
   "metadata": {
    "pycharm": {
     "name": "#%%\n"
    }
   },
   "outputs": [],
   "source": [
    "# append subject to node\n",
    "nx.set_node_attributes(G, node_list[\"subject\"].to_dict(), \"subject\")"
   ]
  },
  {
   "cell_type": "code",
   "execution_count": null,
   "metadata": {
    "pycharm": {
     "name": "#%%\n"
    }
   },
   "outputs": [],
   "source": [
    "# print a sample node\n",
    "G.nodes[1103985][\"subject\"]       # nodes with attributes"
   ]
  },
  {
   "cell_type": "code",
   "execution_count": null,
   "metadata": {
    "pycharm": {
     "name": "#%%\n"
    }
   },
   "outputs": [],
   "source": [
    "# DO NOT RUN THIS CELL\n",
    "\n",
    "# gather all features into lists under 'features' column.\n",
    "node_list[\"features\"] = node_list[feature_names].values.tolist()\n",
    "\n",
    "node_list = node_list.drop(columns=feature_names)\n",
    "node_list[\"id\"] = node_list.index\n",
    "node_list.head(5)"
   ]
  },
  {
   "cell_type": "code",
   "execution_count": null,
   "metadata": {
    "pycharm": {
     "name": "#%%\n"
    }
   },
   "outputs": [],
   "source": [
    "# export as `.graphml` file\n",
    "nx.write_graphml(G, os.path.join(data_dir, \"cora.graphml\"))"
   ]
  },
  {
   "cell_type": "code",
   "execution_count": null,
   "metadata": {
    "pycharm": {
     "name": "#%%\n"
    }
   },
   "outputs": [],
   "source": [
    "G = nx.read_graphml(os.path.join(data_dir, \"cora.graphml\"))"
   ]
  },
  {
   "cell_type": "code",
   "execution_count": null,
   "metadata": {
    "pycharm": {
     "name": "#%%\n"
    }
   },
   "outputs": [],
   "source": [
    "print(nx.info(G))"
   ]
  },
  {
   "cell_type": "code",
   "execution_count": null,
   "metadata": {
    "pycharm": {
     "name": "#%%\n"
    }
   },
   "outputs": [],
   "source": [
    "print( G.nodes[\"1103985\"] )"
   ]
  },
  {
   "attachments": {},
   "cell_type": "markdown",
   "metadata": {
    "pycharm": {
     "name": "#%% md\n"
    }
   },
   "source": [
    "# Citeseer"
   ]
  },
  {
   "cell_type": "code",
   "execution_count": null,
   "metadata": {
    "pycharm": {
     "name": "#%%\n"
    }
   },
   "outputs": [],
   "source": [
    "# load data\n",
    "data_dir = os.path.join(os.getcwd(), 'data\\citeseer')"
   ]
  },
  {
   "cell_type": "code",
   "execution_count": null,
   "metadata": {
    "pycharm": {
     "name": "#%%\n"
    }
   },
   "outputs": [],
   "source": [
    "# import edge list\n",
    "edgelist = pd.read_csv(\n",
    "    os.path.join(data_dir, \"citeseer.cites\"),\n",
    "    sep='\\t',\n",
    "    header=None,\n",
    "    names=[\"target\", \"source\"]\n",
    ")\n",
    "edgelist[\"label\"] = \"cites\""
   ]
  },
  {
   "cell_type": "code",
   "execution_count": null,
   "metadata": {
    "pycharm": {
     "name": "#%%\n"
    }
   },
   "outputs": [],
   "source": [
    "print(edgelist.head(5))"
   ]
  },
  {
   "cell_type": "code",
   "execution_count": null,
   "metadata": {
    "pycharm": {
     "name": "#%%\n"
    }
   },
   "outputs": [],
   "source": [
    "_NUM_FEATURES = 3703"
   ]
  },
  {
   "cell_type": "code",
   "execution_count": null,
   "metadata": {
    "pycharm": {
     "name": "#%%\n"
    }
   },
   "outputs": [],
   "source": [
    "# add node attributes\n",
    "feature_names = [ \"w_{}\".format(ii) for ii in range( _NUM_FEATURES ) ]\n",
    "column_names =  feature_names + [\"subject\"]\n",
    "node_list = pd.read_csv(\n",
    "    os.path.join(data_dir, \"citeseer.content\"),\n",
    "    sep='\\t',\n",
    "    header=None,\n",
    "    names=column_names,\n",
    "    dtype={\n",
    "        0 : str,            # node id (string)\n",
    "        \"subject\": str      # node subject (string)\n",
    "     }\n",
    ")"
   ]
  },
  {
   "cell_type": "code",
   "execution_count": null,
   "metadata": {
    "pycharm": {
     "name": "#%%\n"
    }
   },
   "outputs": [],
   "source": [
    "valid_source = node_list.index.get_indexer(edgelist.source) >= 0\n",
    "valid_target = node_list.index.get_indexer(edgelist.target) >= 0\n",
    "cleaned_edgelist = edgelist[valid_source & valid_target]"
   ]
  },
  {
   "cell_type": "code",
   "execution_count": null,
   "metadata": {
    "pycharm": {
     "name": "#%%\n"
    }
   },
   "outputs": [],
   "source": [
    "# compare cleaned edgelist with original edgelist\n",
    "print(\"Original edgelist size: {}\".format(edgelist.shape))\n",
    "print(\"Cleaned edgelist size: {}\".format(cleaned_edgelist.shape))"
   ]
  },
  {
   "cell_type": "code",
   "execution_count": null,
   "metadata": {
    "pycharm": {
     "name": "#%%\n"
    }
   },
   "outputs": [],
   "source": [
    "G = nx.from_pandas_edgelist( cleaned_edgelist, edge_attr=\"label\")"
   ]
  },
  {
   "cell_type": "code",
   "execution_count": null,
   "metadata": {
    "pycharm": {
     "name": "#%%\n"
    }
   },
   "outputs": [],
   "source": [
    "# type of nodes\n",
    "for node in G.nodes():\n",
    "    print(node, type(node))\n",
    "    break"
   ]
  },
  {
   "cell_type": "code",
   "execution_count": null,
   "metadata": {
    "pycharm": {
     "name": "#%%\n"
    }
   },
   "outputs": [],
   "source": [
    "# convert node ids to integers\n",
    "\n",
    "# I can't do it, because there are nodes id composed by letters and numbers, so the type should be string"
   ]
  },
  {
   "cell_type": "code",
   "execution_count": null,
   "metadata": {
    "pycharm": {
     "name": "#%%\n"
    }
   },
   "outputs": [],
   "source": [
    "# print a sample node\n",
    "for node in G.nodes( data=True ) :\n",
    "    print(node)         # nodes without attributes\n",
    "    break"
   ]
  },
  {
   "cell_type": "code",
   "execution_count": null,
   "metadata": {
    "pycharm": {
     "name": "#%%\n"
    }
   },
   "outputs": [],
   "source": [
    "# gather features and save scalar values per attribute\n",
    "for ii, row in node_list.iterrows():\n",
    "    node_id = row.name\n",
    "    node_subject = row[\"subject\"]\n",
    "\n",
    "    for _ in row.index:\n",
    "        if _ in feature_names:\n",
    "            G.nodes[node_id][_] = row[_]"
   ]
  },
  {
   "cell_type": "code",
   "execution_count": null,
   "metadata": {
    "pycharm": {
     "name": "#%%\n"
    }
   },
   "outputs": [],
   "source": [
    "nx.set_node_attributes(G, node_list[\"subject\"].to_dict(), \"subject\")"
   ]
  },
  {
   "cell_type": "code",
   "execution_count": null,
   "metadata": {
    "pycharm": {
     "name": "#%%\n"
    }
   },
   "outputs": [],
   "source": [
    "# print a sample node\n",
    "for node in G.nodes( data=True ) :\n",
    "    print(node)         # nodes with attributes\n",
    "    break"
   ]
  },
  {
   "cell_type": "code",
   "execution_count": null,
   "metadata": {
    "pycharm": {
     "name": "#%%\n"
    }
   },
   "outputs": [],
   "source": [
    "# write graphml file\n",
    "nx.write_graphml(G, os.path.join(data_dir, \"citeseer.graphml\"))"
   ]
  },
  {
   "cell_type": "code",
   "execution_count": null,
   "metadata": {
    "pycharm": {
     "name": "#%%\n"
    }
   },
   "outputs": [],
   "source": [
    "# load graphml file\n",
    "G = nx.read_graphml(os.path.join(data_dir, \"citeseer.graphml\"))"
   ]
  },
  {
   "cell_type": "code",
   "execution_count": null,
   "metadata": {
    "pycharm": {
     "name": "#%%\n"
    }
   },
   "outputs": [],
   "source": [
    "# print graph info\n",
    "print(nx.info(G))"
   ]
  },
  {
   "attachments": {},
   "cell_type": "markdown",
   "metadata": {
    "pycharm": {
     "name": "#%% md\n"
    }
   },
   "source": [
    "# PubMed"
   ]
  },
  {
   "cell_type": "code",
   "execution_count": 2,
   "metadata": {
    "pycharm": {
     "name": "#%%\n"
    }
   },
   "outputs": [],
   "source": [
    "# load data\n",
    "data_dir = os.path.join(os.getcwd(), 'data\\pubmed-diabetes')"
   ]
  },
  {
   "cell_type": "code",
   "execution_count": 3,
   "metadata": {
    "pycharm": {
     "name": "#%%\n"
    }
   },
   "outputs": [],
   "source": [
    "# import edge list\n",
    "edgelist = pd.read_csv(\n",
    "    os.path.join(data_dir, \"Pubmed-Diabetes.DIRECTED.cites.tab\"),\n",
    "    sep='\\t',\n",
    "    skiprows=2,\n",
    "    header=None,\n",
    "    names=[\"id\", \"source\", \"pipe\", \"target\"],\n",
    "    usecols=[\"source\", \"target\"],\n",
    ")"
   ]
  },
  {
   "cell_type": "code",
   "execution_count": 4,
   "metadata": {
    "pycharm": {
     "name": "#%%\n"
    }
   },
   "outputs": [
    {
     "name": "stdout",
     "output_type": "stream",
     "text": [
      "(44338, 2)\n"
     ]
    }
   ],
   "source": [
    "# print shape of edgelist\n",
    "print(edgelist.shape)"
   ]
  },
  {
   "cell_type": "code",
   "execution_count": 5,
   "metadata": {
    "pycharm": {
     "name": "#%%\n"
    }
   },
   "outputs": [],
   "source": [
    "edgelist.source = edgelist.source.str.lstrip(\"paper:\").astype(int)\n",
    "edgelist.target = edgelist.target.str.lstrip(\"paper:\").astype(int)"
   ]
  },
  {
   "cell_type": "code",
   "execution_count": 6,
   "metadata": {
    "pycharm": {
     "name": "#%%\n"
    }
   },
   "outputs": [
    {
     "name": "stdout",
     "output_type": "stream",
     "text": [
      "     source    target\n",
      "0  19127292  17363749\n",
      "1  19668377  17293876\n",
      "2   1313726   3002783\n",
      "3  19110882  14578298\n",
      "4  18606979  10333910\n"
     ]
    }
   ],
   "source": [
    "print(edgelist.head(5))"
   ]
  },
  {
   "cell_type": "code",
   "execution_count": 7,
   "metadata": {
    "pycharm": {
     "name": "#%%\n"
    }
   },
   "outputs": [],
   "source": [
    "def parse_feature(feat):\n",
    "    name, value = feat.split(\"=\")\n",
    "    return name, float(value)"
   ]
  },
  {
   "cell_type": "code",
   "execution_count": 8,
   "metadata": {
    "pycharm": {
     "name": "#%%\n"
    }
   },
   "outputs": [],
   "source": [
    "def parse_line(line):\n",
    "    pid, raw_label, *raw_features, _summary = line.split(\"\\t\")\n",
    "    features = dict(parse_feature(feat) for feat in raw_features)\n",
    "    features[\"pid\"] = int(pid)\n",
    "    features[\"label\"] = int(parse_feature(raw_label)[1])\n",
    "    return features"
   ]
  },
  {
   "cell_type": "code",
   "execution_count": 9,
   "metadata": {
    "pycharm": {
     "name": "#%%\n"
    }
   },
   "outputs": [],
   "source": [
    "node = \"data\\pubmed-diabetes\\pubmed-diabetes.NODE.paper.tab\""
   ]
  },
  {
   "cell_type": "code",
   "execution_count": 10,
   "metadata": {
    "pycharm": {
     "name": "#%%\n"
    }
   },
   "outputs": [],
   "source": [
    "with open(node) as fp:\n",
    "    node_data = pd.DataFrame(\n",
    "        parse_line(line) for line in itertools.islice(fp, 2, None)\n",
    "    )"
   ]
  },
  {
   "cell_type": "code",
   "execution_count": 11,
   "metadata": {
    "pycharm": {
     "name": "#%%\n"
    }
   },
   "outputs": [],
   "source": [
    "node_data.fillna(0, inplace=True)\n",
    "node_data.set_index(\"pid\", inplace=True)"
   ]
  },
  {
   "cell_type": "code",
   "execution_count": 12,
   "metadata": {
    "pycharm": {
     "name": "#%%\n"
    }
   },
   "outputs": [],
   "source": [
    "labels = node_data[\"label\"]"
   ]
  },
  {
   "cell_type": "code",
   "execution_count": 13,
   "metadata": {
    "pycharm": {
     "name": "#%%\n"
    }
   },
   "outputs": [],
   "source": [
    "nodes = node_data.drop(columns=\"label\")"
   ]
  },
  {
   "cell_type": "code",
   "execution_count": 14,
   "outputs": [],
   "source": [
    "G = nx.MultiDiGraph()\n",
    "G = nx.from_pandas_edgelist(edgelist, create_using=G)"
   ],
   "metadata": {
    "collapsed": false,
    "pycharm": {
     "name": "#%%\n"
    }
   }
  },
  {
   "cell_type": "code",
   "execution_count": 18,
   "metadata": {
    "pycharm": {
     "name": "#%%\n"
    }
   },
   "outputs": [
    {
     "name": "stdout",
     "output_type": "stream",
     "text": [
      "(19127292, {})\n",
      "MultiDiGraph with 19717 nodes and 44338 edges\n"
     ]
    },
    {
     "name": "stderr",
     "output_type": "stream",
     "text": [
      "C:\\Users\\zhzj\\AppData\\Local\\Temp\\ipykernel_21176\\1916643423.py:5: DeprecationWarning: info is deprecated and will be removed in version 3.0.\n",
      "\n",
      "  print( nx.info(G) )\n"
     ]
    }
   ],
   "source": [
    "for node in G.nodes( data=True ):\n",
    "    print(node)        # nodes without attributes\n",
    "    break\n",
    "\n",
    "print( nx.info(G) )"
   ]
  },
  {
   "cell_type": "code",
   "execution_count": 19,
   "metadata": {
    "pycharm": {
     "name": "#%%\n"
    }
   },
   "outputs": [],
   "source": [
    "# gather features into attributes\n",
    "for ii, row in nodes.iterrows():\n",
    "    node_id = row.name\n",
    "    for _ in row.index:\n",
    "        G.nodes[node_id][_] = row[_]"
   ]
  },
  {
   "cell_type": "code",
   "execution_count": 20,
   "metadata": {
    "pycharm": {
     "name": "#%%\n"
    }
   },
   "outputs": [],
   "source": [
    "# append labels to nodes\n",
    "nx.set_node_attributes(G, labels.to_dict(), \"label\")"
   ]
  },
  {
   "cell_type": "code",
   "execution_count": 21,
   "metadata": {
    "pycharm": {
     "name": "#%%\n"
    }
   },
   "outputs": [
    {
     "name": "stdout",
     "output_type": "stream",
     "text": [
      "(19127292, {'w-rat': 0.0, 'w-common': 0.0, 'w-use': 0.0, 'w-examin': 0.02889892370027422, 'w-pathogenesi': 0.0, 'w-retinopathi': 0.0, 'w-mous': 0.0, 'w-studi': 0.03927472173927795, 'w-anim': 0.0, 'w-model': 0.0, 'w-metabol': 0.0, 'w-abnorm': 0.0, 'w-contribut': 0.0, 'w-develop': 0.0, 'w-investig': 0.0, 'w-mice': 0.0, 'w-2': 0.0051138308462225415, 'w-month': 0.0, 'w-compar': 0.017653254069202904, 'w-obtain': 0.0, 'w-method': 0.0, 'w-induc': 0.0, 'w-6': 0.0, 'w-inject': 0.0, 'w-experiment': 0.0, 'w-normal': 0.0, 'w-diet': 0.0, 'w-30': 0.0, 'w-hyperglycemia': 0.0, 'w-level': 0.0, 'w-lipid': 0.0, 'w-oxid': 0.0, 'w-activ': 0.0, 'w-protein': 0.0, 'w-kinas': 0.0, 'w-c': 0.0, 'w-measur': 0.011734827227009909, 'w-result': 0.005626481865792995, 'w-increas': 0.013080628861391524, 'w-retin': 0.0, 'w-stress': 0.0, 'w-3': 0.009410652924576506, 'w-similar': 0.0, 'w-observ': 0.013638082547296626, 'w-conclus': 0.009595651021257695, 'w-play': 0.0, 'w-import': 0.0, 'w-role': 0.0, 'w-present': 0.0, 'w-p': 0.0, 'w-m': 0.0, 'w-r': 0.0, 'w-muscl': 0.0, 'w-control': 0.0, 'w-chang': 0.0, 'w-dure': 0.0, 'w-lower': 0.0, 'w-higher': 0.013707596952315111, 'w-mass': 0.0, 'w-correl': 0.0, 'w-decreas': 0.0, 'w-determin': 0.0, 'w-concentr': 0.0, 'w-stimul': 0.0, 'w-period': 0.0, 'w-caus': 0.0, 'w-mark': 0.0, 'w-group': 0.0, 'w-evid': 0.018018854082796857, 'w-fast': 0.0, 'w-type': 0.0, 'w-signific': 0.026654784576510108, 'w-differ': 0.0, 'w-ratio': 0.018187833938568296, 'w-suggest': 0.021453823869012026, 'w-degre': 0.0, 'w-occur': 0.0, 'w-vivo': 0.0, 'w-respect': 0.015206016428791635, 'w-dysfunct': 0.02445769293081941, 'w-region': 0.0, 'w-high': 0.0, 'w-appear': 0.0, 'w-sever': 0.0, 'w-affect': 0.0, 'w-cardiovascular': 0.0, 'w-complic': 0.0, 'w-primari': 0.0, 'w-death': 0.0, 'w-patient': 0.0, 'w-clinic': 0.0, 'w-suscept': 0.0, 'w-cardiac': 0.0, 'w-tissu': 0.0, 'w-specif': 0.0, 'w-function': 0.01464439249807633, 'w-defect': 0.0, 'w-possibl': 0.0, 'w-indic': 0.0, 'w-state': 0.0, 'w-onli': 0.0, 'w-bodi': 0.0, 'w-weight': 0.0, 'w-loss': 0.0, 'w-valu': 0.0, 'w-howev': 0.01392805234916936, 'w-4': 0.0, 'w-condit': 0.046675881510411174, 'w-durat': 0.01851450237325145, 'w-8': 0.0, 'w-week': 0.0, 'w-onset': 0.0, 'w-data': 0.013858803228687022, 'w-direct': 0.0, 'w-report': 0.016871029143029966, 'w-provid': 0.018790451745310428, 'w-addit': 0.0, 'w-evalu': 0.0, 'w-sensit': 0.0, 'w-heart': 0.0, 'w-object': 0.0, 'w-mean': 0.0, 'w-blood': 0.0, 'w-glucos': 0.0, 'w-strong': 0.0, 'w-hba': 0.0, 'w-1c': 0.0, 'w-a1c': 0.0, 'w-variabl': 0.0, 'w-independ': 0.04011775265951645, 'w-assess': 0.0, 'w-relat': 0.012703962868216978, 'w-trial': 0.0, 'w-research': 0.01827184529592975, 'w-design': 0.0, 'w-profil': 0.0, 'w-sampl': 0.0, 'w-particip': 0.0, 'w-n': 0.0, 'w-1': 0.037296046599825425, 'w-consist': 0.0, 'w-befor': 0.0, 'w-min': 0.0, 'w-predict': 0.0, 'w-adjust': 0.04485816065696036, 'w-sex': 0.0, 'w-treatment': 0.0, 'w-7': 0.0, 'w-gt': 0.0, 'w-0': 0.0, 'w-larg': 0.0, 'w-influenc': 0.0, 'w-base': 0.0, 'w-standard': 0.0, 'w-14': 0.0, 'w-10': 0.0, 'w-wherea': 0.0, 'w-enhanc': 0.0, 'w-manag': 0.0, 'w-day': 0.0, 'w-secret': 0.0, 'w-cholesterol': 0.0, 'w-insulin': 0.0078880468434901, 'w-24': 0.0, 'w-h': 0.0, 'w-low': 0.0, 'w-rate': 0.0, 'w-fatti': 0.0, 'w-acid': 0.0, 'w-effect': 0.0, 'w-hormon': 0.0, 'w-hepat': 0.0, 'w-contrast': 0.0, 'w-product': 0.0, 'w-major': 0.0, 'w-plasma': 0.0, 'w-current': 0.02489199769729728, 'w-flow': 0.0, 'w-chronic': 0.0, 'w-mechan': 0.0, 'w-test': 0.0, 'w-therefor': 0.0, 'w-analys': 0.0, 'w-mrna': 0.0, 'w-streptozotocin': 0.0, 'w-did': 0.01556637156707304, 'w-15': 0.0, 'w-g': 0.0, 'w-25': 0.02080772022117066, 'w-mmol': 0.0, 'w-l': 0.0, 'w-5': 0.010079301020644037, 'w-reduc': 0.0, 'w-number': 0.0, 'w-densiti': 0.0, 'w-posit': 0.0, 'w-cell': 0.0, 'w-17': 0.0, 'w-mm': 0.0, 'w-18': 0.021136683432121873, 'w-induct': 0.0, 'w-associ': 0.08005494712020127, 'w-express': 0.0, 'w-glycem': 0.0, 'w-respons': 0.0, 'w-therapi': 0.0, 'w-random': 0.0, 'w-initi': 0.0, 'w-ani': 0.0, 'w-singl': 0.0, 'w-new': 0.0, 'w-agent': 0.0, 'w-metformin': 0.0, 'w-medic': 0.0, 'w-glycosyl': 0.0, 'w-hemoglobin': 0.0, 'w-analysi': 0.0, 'w-baselin': 0.040890928004899074, 'w-health': 0.0, 'w-factor': 0.0, 'w-process': 0.0, 'w-care': 0.024305775843801173, 'w-9': 0.0, 'w-01': 0.0, 'w-95': 0.01922789683265175, 'w-interv': 0.0, 'w-ci': 0.06896139646081245, 'w-12': 0.0, 'w-reduct': 0.0, 'w-achiev': 0.0, 'w-target': 0.0, 'w-lt': 0.0, 'w-diseas': 0.011245013629351193, 'w-class': 0.0, 'w-age': 0.0, 'w-obes': 0.0, 'w-renal': 0.0, 'w-improv': 0.0, 'w-progress': 0.0, 'w-noninsulindepend': 0.0, 'w-mellitus': 0.0, 'w-becaus': 0.0, 'w-s': 0.0, 'w-index': 0.0, 'w-hypertens': 0.0, 'w-need': 0.0, 'w-followup': 0.02224156948276848, 'w-year': 0.0, 'w-mg': 0.0, 'w-dl': 0.0, 'w-remain': 0.0, 'w-subject': 0.0, 'w-treat': 0.0, 'w-oral': 0.0, 'w-requir': 0.02225281643368426, 'w-0001': 0.0, 'w-mortal': 0.0, 'w-includ': 0.015287254819072175, 'w-vs': 0.0, 'w-background': 0.01921215945343809, 'w-poor': 0.0, 'w-drug': 0.0, 'w-13': 0.0, 'w-rang': 0.0, 'w-combin': 0.0, 'w-intervent': 0.0, 'w-daili': 0.0, 'w-dose': 0.0, 'w-100': 0.0, 'w-toler': 0.0, 'w-receiv': 0.0, 'w-11': 0.0, 'w-postprandi': 0.0, 'w-kg': 0.0, 'w-hypoglycemia': 0.0, 'w-frequent': 0.0, 'w-event': 0.0, 'w-versus': 0.0, 'w-symptom': 0.0, 'w-incid': 0.03982492465107273, 'w-parent': 0.0, 'w-complex': 0.0, 'w-longterm': 0.0, 'w-inhibitor': 0.0, 'w-peripher': 0.0, 'w-nerv': 0.0, 'w-stz': 0.0, 'w-conduct': 0.0, 'w-demonstr': 0.0, 'w-frequenc': 0.0, 'w-inhibit': 0.0, 'w-neuropathi': 0.0, 'w-pathway': 0.027060284353779763, 'w-shown': 0.0, 'w-time': 0.0, 'w-ii': 0.0, 'w-individu': 0.0, 'w-adult': 0.047288018857577996, 'w-50': 0.0, 'w-60': 0.0, 'w-diagnosi': 0.0, 'w-healthi': 0.0, 'w-follow': 0.0, 'w-young': 0.0, 'w-seen': 0.0, 'w-alter': 0.0, 'w-gene': 0.0, 'w-e': 0.024922786382465763, 'w-identifi': 0.0, 'w-previous': 0.0, 'w-mediat': 0.0, 'w-vascular': 0.023073482295005356, 'w-lipoprotein': 0.0, 'w-involv': 0.0, 'w-phenotyp': 0.0, 'w-confirm': 0.0, 'w-variant': 0.0, 'w-endotheli': 0.0, 'w-potenti': 0.0, 'w-disord': 0.0, 'w-popul': 0.01714682192042379, 'w-nonobes': 0.0, 'w-aim': 0.0, 'w-serum': 0.0, 'w-hba1c': 0.0, 'w-hypoglycaemia': 0.0, 'w-continu': 0.0, 'w-case': 0.0, 'w-impair': 0.035586243104380785, 'w-risk': 0.0505832222599446, 'w-known': 0.0, 'w-men': 0.0, 'w-women': 0.04647243837716785, 'w-40': 0.0, 'w-complet': 0.0, 'w-estim': 0.0, 'w-like': 0.0, 'w-particular': 0.0, 'w-human': 0.0, 'w-character': 0.0, 'w-elev': 0.0, 'w-synthesi': 0.0, 'w-greater': 0.0, 'w-small': 0.0, 'w-reveal': 0.0, 'w-liver': 0.0, 'w-niddm': 0.0, 'w-genet': 0.0, 'w-receptor': 0.0, 'w-growth': 0.0, 'w-pancreat': 0.0, 'w-betacel': 0.0, 'w-molecul': 0.0, 'w-enzym': 0.0, 'w-regul': 0.0, 'w-polymorph': 0.0, 'w-total': 0.0, 'w-allel': 0.0, 'w-02': 0.0, 'w-resist': 0.0, 'w-cpeptid': 0.0, 'w-hypothesi': 0.0, 'w-perform': 0.0, 'w-score': 0.0, 'w-001': 0.0, 'w-05': 0.0, 'w-histori': 0.0, 'w-action': 0.0, 'w-approxim': 0.0, 'w-suppress': 0.0, 'w-glucagon': 0.0, 'w-ml': 0.0, 'w-x': 0.0, 'w-free': 0.0, 'w-peopl': 0.0, 'w-uptak': 0.0, 'w-intens': 0.0, 'w-relationship': 0.0, 'w-prevent': 0.0, 'w-autoimmun': 0.0, 'w-recent': 0.0, 'w-preval': 0.0, 'w-nondiabet': 0.0, 'w-genotyp': 0.0, 'w-conclud': 0.0, 'w-linkag': 0.0, 'w-islet': 0.0, 'w-peptid': 0.0, 'w-form': 0.0, 'w-membran': 0.0, 'w-transgen': 0.0, 'w-failur': 0.0, 'w-isol': 0.0, 'w-negat': 0.0, 'w-earli': 0.0, 'w-famili': 0.0, 'w-chromosom': 0.0, 'w-immun': 0.0, 'w-support': 0.02245209344858597, 'w-16': 0.020504774872551562, 'w-cohort': 0.024443106737423028, 'w-insulindepend': 0.0, 'w-outcom': 0.045634054841286464, 'w-screen': 0.0, 'w-approach': 0.0, 'w-infus': 0.0, 'w-multipl': 0.0, 'w-depend': 0.0, 'w-physic': 0.0, 'w-transport': 0.0, 'w-acut': 0.0, 'w-releas': 0.0, 'w-presenc': 0.0, 'w-glycaem': 0.0, 'w-male': 0.0, 'w-antibodi': 0.0, 'w-femal': 0.0, 'w-pattern': 0.0, 'w-t2dm': 0.0, 'w-promot': 0.0, 'w-fat': 0.0, 'w-d': 0.0, 'w-bmi': 0.0, 'w-haplotyp': 0.0, 'w-triglycerid': 0.0, 'w-interact': 0.0, 'w-marker': 0.0, 'w-describ': 0.0, 'w-area': 0.0, 'w-20': 0.0, 'w-cytokin': 0.0, 'w-bind': 0.0, 'w-bb': 0.0, 'w-alpha': 0.0, 'w-beta': 0.0, 'w-cd4': 0.0, 'w-spontan': 0.0, 'w-vitro': 0.0, 'w-given': 0.0, 'w-basal': 0.0, 'w-protect': 0.0, 'w-pressur': 0.0, 'w-detect': 0.0, 'w-exercis': 0.0, 'w-children': 0.0, 'w-adolesc': 0.0, 'w-life': 0.0, 'w-b': 0.0, 'w-antigen': 0.0, 'w-iddm': 0.0, 'w-american': 0.0, 'w-hla': 0.0, 'w-arteri': 0.0, 'w-nephropathi': 0.0, 'w-review': 0.025228987800241263, 'w-destruct': 0.0, 'w-content': 0.0, 'w-autoantibodi': 0.0, 'w-dm': 0.22510199289253005, 'w-select': 0.045670180934982575, 'w-infect': 0.0, 'w-recipi': 0.0, 'w-intak': 0.0, 'w-placebo': 0.0, 'w-db': 0.0, 'w-pancrea': 0.0, 'w-diagnos': 0.0, 'w-glomerular': 0.0, 'w-albumin': 0.0, 'w-excret': 0.0, 'w-syndrom': 0.0, 'w-t': 0.0, 'w-lymphocyt': 0.0, 'w-produc': 0.0, 'w-coronari': 0.0, 'w-status': 0.05197932433294603, 'w-microalbuminuria': 0.0, 'w-nod': 0.0, 'w-mhc': 0.0, 'w-insul': 0.0, 'w-administr': 0.0, 'w-revers': 0.0, 'w-transplant': 0.0, 'w-graft': 0.0, 'w-t1d': 0.0, 'w-lead': 0.0, 'w-v': 0.0, 'w-dietari': 0.0, 'w-general': 0.0, 'w-macrophag': 0.0, 'w-kidney': 0.0, 'w-urinari': 0.05345886448376969, 'w-myocardi': 0.0, 'w-meal': 0.0, 'w-ica': 0.0, 'w-locus': 0.0, 'w-tcell': 0.0, 'w-depress': 0.09259980388655945, 'w-bone': 0.0, 'w-mutat': 0.0, 'label': 3})\n"
     ]
    }
   ],
   "source": [
    "for node in G.nodes( data=True ):\n",
    "    print(node)      # nodes with attributes\n",
    "    break"
   ]
  },
  {
   "cell_type": "code",
   "execution_count": 22,
   "metadata": {
    "pycharm": {
     "name": "#%%\n"
    }
   },
   "outputs": [],
   "source": [
    "# write graphml file\n",
    "nx.write_graphml(G, os.path.join(data_dir, \"pubmed-diabetes.graphml\"))"
   ]
  },
  {
   "cell_type": "code",
   "execution_count": 23,
   "metadata": {
    "pycharm": {
     "name": "#%%\n"
    }
   },
   "outputs": [],
   "source": [
    "# load graphml file\n",
    "G = nx.read_graphml(os.path.join(data_dir, \"pubmed-diabetes.graphml\"))"
   ]
  },
  {
   "cell_type": "code",
   "execution_count": 24,
   "metadata": {
    "pycharm": {
     "name": "#%%\n"
    }
   },
   "outputs": [
    {
     "name": "stdout",
     "output_type": "stream",
     "text": [
      "DiGraph with 19717 nodes and 44338 edges\n"
     ]
    },
    {
     "name": "stderr",
     "output_type": "stream",
     "text": [
      "C:\\Users\\zhzj\\AppData\\Local\\Temp\\ipykernel_21176\\1331766745.py:2: DeprecationWarning: info is deprecated and will be removed in version 3.0.\n",
      "\n",
      "  print(nx.info(G))\n"
     ]
    }
   ],
   "source": [
    "# print graph info\n",
    "print(nx.info(G))"
   ]
  },
  {
   "cell_type": "code",
   "execution_count": 25,
   "outputs": [
    {
     "name": "stdout",
     "output_type": "stream",
     "text": [
      "('19127292', {'w-rat': 0.0, 'w-common': 0.0, 'w-use': 0.0, 'w-examin': 0.02889892370027422, 'w-pathogenesi': 0.0, 'w-retinopathi': 0.0, 'w-mous': 0.0, 'w-studi': 0.03927472173927795, 'w-anim': 0.0, 'w-model': 0.0, 'w-metabol': 0.0, 'w-abnorm': 0.0, 'w-contribut': 0.0, 'w-develop': 0.0, 'w-investig': 0.0, 'w-mice': 0.0, 'w-2': 0.0051138308462225415, 'w-month': 0.0, 'w-compar': 0.017653254069202904, 'w-obtain': 0.0, 'w-method': 0.0, 'w-induc': 0.0, 'w-6': 0.0, 'w-inject': 0.0, 'w-experiment': 0.0, 'w-normal': 0.0, 'w-diet': 0.0, 'w-30': 0.0, 'w-hyperglycemia': 0.0, 'w-level': 0.0, 'w-lipid': 0.0, 'w-oxid': 0.0, 'w-activ': 0.0, 'w-protein': 0.0, 'w-kinas': 0.0, 'w-c': 0.0, 'w-measur': 0.011734827227009909, 'w-result': 0.005626481865792995, 'w-increas': 0.013080628861391524, 'w-retin': 0.0, 'w-stress': 0.0, 'w-3': 0.009410652924576506, 'w-similar': 0.0, 'w-observ': 0.013638082547296626, 'w-conclus': 0.009595651021257695, 'w-play': 0.0, 'w-import': 0.0, 'w-role': 0.0, 'w-present': 0.0, 'w-p': 0.0, 'w-m': 0.0, 'w-r': 0.0, 'w-muscl': 0.0, 'w-control': 0.0, 'w-chang': 0.0, 'w-dure': 0.0, 'w-lower': 0.0, 'w-higher': 0.013707596952315111, 'w-mass': 0.0, 'w-correl': 0.0, 'w-decreas': 0.0, 'w-determin': 0.0, 'w-concentr': 0.0, 'w-stimul': 0.0, 'w-period': 0.0, 'w-caus': 0.0, 'w-mark': 0.0, 'w-group': 0.0, 'w-evid': 0.018018854082796857, 'w-fast': 0.0, 'w-type': 0.0, 'w-signific': 0.026654784576510108, 'w-differ': 0.0, 'w-ratio': 0.018187833938568296, 'w-suggest': 0.021453823869012026, 'w-degre': 0.0, 'w-occur': 0.0, 'w-vivo': 0.0, 'w-respect': 0.015206016428791635, 'w-dysfunct': 0.02445769293081941, 'w-region': 0.0, 'w-high': 0.0, 'w-appear': 0.0, 'w-sever': 0.0, 'w-affect': 0.0, 'w-cardiovascular': 0.0, 'w-complic': 0.0, 'w-primari': 0.0, 'w-death': 0.0, 'w-patient': 0.0, 'w-clinic': 0.0, 'w-suscept': 0.0, 'w-cardiac': 0.0, 'w-tissu': 0.0, 'w-specif': 0.0, 'w-function': 0.01464439249807633, 'w-defect': 0.0, 'w-possibl': 0.0, 'w-indic': 0.0, 'w-state': 0.0, 'w-onli': 0.0, 'w-bodi': 0.0, 'w-weight': 0.0, 'w-loss': 0.0, 'w-valu': 0.0, 'w-howev': 0.01392805234916936, 'w-4': 0.0, 'w-condit': 0.046675881510411174, 'w-durat': 0.01851450237325145, 'w-8': 0.0, 'w-week': 0.0, 'w-onset': 0.0, 'w-data': 0.013858803228687022, 'w-direct': 0.0, 'w-report': 0.016871029143029966, 'w-provid': 0.018790451745310428, 'w-addit': 0.0, 'w-evalu': 0.0, 'w-sensit': 0.0, 'w-heart': 0.0, 'w-object': 0.0, 'w-mean': 0.0, 'w-blood': 0.0, 'w-glucos': 0.0, 'w-strong': 0.0, 'w-hba': 0.0, 'w-1c': 0.0, 'w-a1c': 0.0, 'w-variabl': 0.0, 'w-independ': 0.04011775265951645, 'w-assess': 0.0, 'w-relat': 0.012703962868216978, 'w-trial': 0.0, 'w-research': 0.01827184529592975, 'w-design': 0.0, 'w-profil': 0.0, 'w-sampl': 0.0, 'w-particip': 0.0, 'w-n': 0.0, 'w-1': 0.037296046599825425, 'w-consist': 0.0, 'w-befor': 0.0, 'w-min': 0.0, 'w-predict': 0.0, 'w-adjust': 0.04485816065696036, 'w-sex': 0.0, 'w-treatment': 0.0, 'w-7': 0.0, 'w-gt': 0.0, 'w-0': 0.0, 'w-larg': 0.0, 'w-influenc': 0.0, 'w-base': 0.0, 'w-standard': 0.0, 'w-14': 0.0, 'w-10': 0.0, 'w-wherea': 0.0, 'w-enhanc': 0.0, 'w-manag': 0.0, 'w-day': 0.0, 'w-secret': 0.0, 'w-cholesterol': 0.0, 'w-insulin': 0.0078880468434901, 'w-24': 0.0, 'w-h': 0.0, 'w-low': 0.0, 'w-rate': 0.0, 'w-fatti': 0.0, 'w-acid': 0.0, 'w-effect': 0.0, 'w-hormon': 0.0, 'w-hepat': 0.0, 'w-contrast': 0.0, 'w-product': 0.0, 'w-major': 0.0, 'w-plasma': 0.0, 'w-current': 0.02489199769729728, 'w-flow': 0.0, 'w-chronic': 0.0, 'w-mechan': 0.0, 'w-test': 0.0, 'w-therefor': 0.0, 'w-analys': 0.0, 'w-mrna': 0.0, 'w-streptozotocin': 0.0, 'w-did': 0.01556637156707304, 'w-15': 0.0, 'w-g': 0.0, 'w-25': 0.02080772022117066, 'w-mmol': 0.0, 'w-l': 0.0, 'w-5': 0.010079301020644037, 'w-reduc': 0.0, 'w-number': 0.0, 'w-densiti': 0.0, 'w-posit': 0.0, 'w-cell': 0.0, 'w-17': 0.0, 'w-mm': 0.0, 'w-18': 0.021136683432121873, 'w-induct': 0.0, 'w-associ': 0.08005494712020127, 'w-express': 0.0, 'w-glycem': 0.0, 'w-respons': 0.0, 'w-therapi': 0.0, 'w-random': 0.0, 'w-initi': 0.0, 'w-ani': 0.0, 'w-singl': 0.0, 'w-new': 0.0, 'w-agent': 0.0, 'w-metformin': 0.0, 'w-medic': 0.0, 'w-glycosyl': 0.0, 'w-hemoglobin': 0.0, 'w-analysi': 0.0, 'w-baselin': 0.040890928004899074, 'w-health': 0.0, 'w-factor': 0.0, 'w-process': 0.0, 'w-care': 0.024305775843801173, 'w-9': 0.0, 'w-01': 0.0, 'w-95': 0.01922789683265175, 'w-interv': 0.0, 'w-ci': 0.06896139646081245, 'w-12': 0.0, 'w-reduct': 0.0, 'w-achiev': 0.0, 'w-target': 0.0, 'w-lt': 0.0, 'w-diseas': 0.011245013629351193, 'w-class': 0.0, 'w-age': 0.0, 'w-obes': 0.0, 'w-renal': 0.0, 'w-improv': 0.0, 'w-progress': 0.0, 'w-noninsulindepend': 0.0, 'w-mellitus': 0.0, 'w-becaus': 0.0, 'w-s': 0.0, 'w-index': 0.0, 'w-hypertens': 0.0, 'w-need': 0.0, 'w-followup': 0.02224156948276848, 'w-year': 0.0, 'w-mg': 0.0, 'w-dl': 0.0, 'w-remain': 0.0, 'w-subject': 0.0, 'w-treat': 0.0, 'w-oral': 0.0, 'w-requir': 0.02225281643368426, 'w-0001': 0.0, 'w-mortal': 0.0, 'w-includ': 0.015287254819072175, 'w-vs': 0.0, 'w-background': 0.01921215945343809, 'w-poor': 0.0, 'w-drug': 0.0, 'w-13': 0.0, 'w-rang': 0.0, 'w-combin': 0.0, 'w-intervent': 0.0, 'w-daili': 0.0, 'w-dose': 0.0, 'w-100': 0.0, 'w-toler': 0.0, 'w-receiv': 0.0, 'w-11': 0.0, 'w-postprandi': 0.0, 'w-kg': 0.0, 'w-hypoglycemia': 0.0, 'w-frequent': 0.0, 'w-event': 0.0, 'w-versus': 0.0, 'w-symptom': 0.0, 'w-incid': 0.03982492465107273, 'w-parent': 0.0, 'w-complex': 0.0, 'w-longterm': 0.0, 'w-inhibitor': 0.0, 'w-peripher': 0.0, 'w-nerv': 0.0, 'w-stz': 0.0, 'w-conduct': 0.0, 'w-demonstr': 0.0, 'w-frequenc': 0.0, 'w-inhibit': 0.0, 'w-neuropathi': 0.0, 'w-pathway': 0.027060284353779763, 'w-shown': 0.0, 'w-time': 0.0, 'w-ii': 0.0, 'w-individu': 0.0, 'w-adult': 0.047288018857577996, 'w-50': 0.0, 'w-60': 0.0, 'w-diagnosi': 0.0, 'w-healthi': 0.0, 'w-follow': 0.0, 'w-young': 0.0, 'w-seen': 0.0, 'w-alter': 0.0, 'w-gene': 0.0, 'w-e': 0.024922786382465763, 'w-identifi': 0.0, 'w-previous': 0.0, 'w-mediat': 0.0, 'w-vascular': 0.023073482295005356, 'w-lipoprotein': 0.0, 'w-involv': 0.0, 'w-phenotyp': 0.0, 'w-confirm': 0.0, 'w-variant': 0.0, 'w-endotheli': 0.0, 'w-potenti': 0.0, 'w-disord': 0.0, 'w-popul': 0.01714682192042379, 'w-nonobes': 0.0, 'w-aim': 0.0, 'w-serum': 0.0, 'w-hba1c': 0.0, 'w-hypoglycaemia': 0.0, 'w-continu': 0.0, 'w-case': 0.0, 'w-impair': 0.035586243104380785, 'w-risk': 0.0505832222599446, 'w-known': 0.0, 'w-men': 0.0, 'w-women': 0.04647243837716785, 'w-40': 0.0, 'w-complet': 0.0, 'w-estim': 0.0, 'w-like': 0.0, 'w-particular': 0.0, 'w-human': 0.0, 'w-character': 0.0, 'w-elev': 0.0, 'w-synthesi': 0.0, 'w-greater': 0.0, 'w-small': 0.0, 'w-reveal': 0.0, 'w-liver': 0.0, 'w-niddm': 0.0, 'w-genet': 0.0, 'w-receptor': 0.0, 'w-growth': 0.0, 'w-pancreat': 0.0, 'w-betacel': 0.0, 'w-molecul': 0.0, 'w-enzym': 0.0, 'w-regul': 0.0, 'w-polymorph': 0.0, 'w-total': 0.0, 'w-allel': 0.0, 'w-02': 0.0, 'w-resist': 0.0, 'w-cpeptid': 0.0, 'w-hypothesi': 0.0, 'w-perform': 0.0, 'w-score': 0.0, 'w-001': 0.0, 'w-05': 0.0, 'w-histori': 0.0, 'w-action': 0.0, 'w-approxim': 0.0, 'w-suppress': 0.0, 'w-glucagon': 0.0, 'w-ml': 0.0, 'w-x': 0.0, 'w-free': 0.0, 'w-peopl': 0.0, 'w-uptak': 0.0, 'w-intens': 0.0, 'w-relationship': 0.0, 'w-prevent': 0.0, 'w-autoimmun': 0.0, 'w-recent': 0.0, 'w-preval': 0.0, 'w-nondiabet': 0.0, 'w-genotyp': 0.0, 'w-conclud': 0.0, 'w-linkag': 0.0, 'w-islet': 0.0, 'w-peptid': 0.0, 'w-form': 0.0, 'w-membran': 0.0, 'w-transgen': 0.0, 'w-failur': 0.0, 'w-isol': 0.0, 'w-negat': 0.0, 'w-earli': 0.0, 'w-famili': 0.0, 'w-chromosom': 0.0, 'w-immun': 0.0, 'w-support': 0.02245209344858597, 'w-16': 0.020504774872551562, 'w-cohort': 0.024443106737423028, 'w-insulindepend': 0.0, 'w-outcom': 0.045634054841286464, 'w-screen': 0.0, 'w-approach': 0.0, 'w-infus': 0.0, 'w-multipl': 0.0, 'w-depend': 0.0, 'w-physic': 0.0, 'w-transport': 0.0, 'w-acut': 0.0, 'w-releas': 0.0, 'w-presenc': 0.0, 'w-glycaem': 0.0, 'w-male': 0.0, 'w-antibodi': 0.0, 'w-femal': 0.0, 'w-pattern': 0.0, 'w-t2dm': 0.0, 'w-promot': 0.0, 'w-fat': 0.0, 'w-d': 0.0, 'w-bmi': 0.0, 'w-haplotyp': 0.0, 'w-triglycerid': 0.0, 'w-interact': 0.0, 'w-marker': 0.0, 'w-describ': 0.0, 'w-area': 0.0, 'w-20': 0.0, 'w-cytokin': 0.0, 'w-bind': 0.0, 'w-bb': 0.0, 'w-alpha': 0.0, 'w-beta': 0.0, 'w-cd4': 0.0, 'w-spontan': 0.0, 'w-vitro': 0.0, 'w-given': 0.0, 'w-basal': 0.0, 'w-protect': 0.0, 'w-pressur': 0.0, 'w-detect': 0.0, 'w-exercis': 0.0, 'w-children': 0.0, 'w-adolesc': 0.0, 'w-life': 0.0, 'w-b': 0.0, 'w-antigen': 0.0, 'w-iddm': 0.0, 'w-american': 0.0, 'w-hla': 0.0, 'w-arteri': 0.0, 'w-nephropathi': 0.0, 'w-review': 0.025228987800241263, 'w-destruct': 0.0, 'w-content': 0.0, 'w-autoantibodi': 0.0, 'w-dm': 0.22510199289253005, 'w-select': 0.045670180934982575, 'w-infect': 0.0, 'w-recipi': 0.0, 'w-intak': 0.0, 'w-placebo': 0.0, 'w-db': 0.0, 'w-pancrea': 0.0, 'w-diagnos': 0.0, 'w-glomerular': 0.0, 'w-albumin': 0.0, 'w-excret': 0.0, 'w-syndrom': 0.0, 'w-t': 0.0, 'w-lymphocyt': 0.0, 'w-produc': 0.0, 'w-coronari': 0.0, 'w-status': 0.05197932433294603, 'w-microalbuminuria': 0.0, 'w-nod': 0.0, 'w-mhc': 0.0, 'w-insul': 0.0, 'w-administr': 0.0, 'w-revers': 0.0, 'w-transplant': 0.0, 'w-graft': 0.0, 'w-t1d': 0.0, 'w-lead': 0.0, 'w-v': 0.0, 'w-dietari': 0.0, 'w-general': 0.0, 'w-macrophag': 0.0, 'w-kidney': 0.0, 'w-urinari': 0.05345886448376969, 'w-myocardi': 0.0, 'w-meal': 0.0, 'w-ica': 0.0, 'w-locus': 0.0, 'w-tcell': 0.0, 'w-depress': 0.09259980388655945, 'w-bone': 0.0, 'w-mutat': 0.0, 'label': 3})\n"
     ]
    }
   ],
   "source": [
    "# print a sample node\n",
    "for node in G.nodes( data=True ):\n",
    "    print(node)\n",
    "    break"
   ],
   "metadata": {
    "collapsed": false,
    "pycharm": {
     "name": "#%%\n"
    }
   }
  },
  {
   "cell_type": "code",
   "execution_count": null,
   "outputs": [],
   "source": [],
   "metadata": {
    "collapsed": false,
    "pycharm": {
     "name": "#%%\n"
    }
   }
  }
 ],
 "metadata": {
  "kernelspec": {
   "display_name": "rse-preliminary-analysis",
   "language": "python",
   "name": "python3"
  },
  "language_info": {
   "codemirror_mode": {
    "name": "ipython",
    "version": 3
   },
   "file_extension": ".py",
   "mimetype": "text/x-python",
   "name": "python",
   "nbconvert_exporter": "python",
   "pygments_lexer": "ipython3",
   "version": "3.10.4"
  },
  "orig_nbformat": 4,
  "vscode": {
   "interpreter": {
    "hash": "780fdad1c7157e03b59df34e102fe78f9e4153f869c3da8fea36f0f414933e4e"
   }
  }
 },
 "nbformat": 4,
 "nbformat_minor": 2
}