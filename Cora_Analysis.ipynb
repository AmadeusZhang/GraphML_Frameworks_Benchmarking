{
 "cells": [
  {
   "cell_type": "code",
   "execution_count": 1,
   "metadata": {
    "collapsed": false,
    "pycharm": {
     "name": "#%%\n"
    }
   },
   "outputs": [],
   "source": [
    "# Import libraries\n",
    "import sys\n",
    "\n",
    "import networkx as nx\n",
    "import pandas as pd\n",
    "import numpy as np\n",
    "import os\n",
    "\n",
    "import stellargraph as sg\n",
    "from stellargraph import StellarGraph\n",
    "from stellargraph.mapper import GraphSAGENodeGenerator, FullBatchNodeGenerator\n",
    "from stellargraph.layer import GraphSAGE, GCN\n",
    "\n",
    "import tensorflow as tf\n",
    "from tensorflow import keras\n",
    "from keras import layers, optimizers, losses, metrics, Model\n",
    "from sklearn import preprocessing, feature_extraction, model_selection\n",
    "\n",
    "import json"
   ]
  },
  {
   "cell_type": "code",
   "execution_count": null,
   "metadata": {},
   "outputs": [],
   "source": [
    "# Setup GPU\n",
    "\n",
    "print(\"Num GPUs Available: \", len(tf.config.list_physical_devices('GPU')))"
   ]
  },
  {
   "cell_type": "markdown",
   "metadata": {
    "collapsed": false,
    "pycharm": {
     "name": "#%% md\n"
    }
   },
   "source": [
    "## Load Data and Preprocessing"
   ]
  },
  {
   "cell_type": "code",
   "execution_count": 2,
   "metadata": {
    "collapsed": false,
    "pycharm": {
     "name": "#%%\n"
    }
   },
   "outputs": [
    {
     "name": "stdout",
     "output_type": "stream",
     "text": [
      "Graph with 2708 nodes and 5278 edges\n"
     ]
    }
   ],
   "source": [
    "# Import dataset\n",
    "G = nx.read_graphml( \"data/cora/cora.graphml\" )\n",
    "\n",
    "print(G) # should print a graph with 2708 nodes and 5429 edges (directed) \n",
    "\n",
    "# in this case, we have created a undirected graph, so the numbers of edges are diffent from the original paper"
   ]
  },
  {
   "cell_type": "code",
   "execution_count": null,
   "metadata": {},
   "outputs": [],
   "source": [
    "G.graph"
   ]
  },
  {
   "cell_type": "code",
   "execution_count": null,
   "metadata": {
    "collapsed": false,
    "pycharm": {
     "name": "#%%\n"
    }
   },
   "outputs": [],
   "source": [
    "print( json.dumps( list( G.nodes(data=True) )[0], indent = 4 ) ) # 1-1432: weights, 1433: subject"
   ]
  },
  {
   "cell_type": "code",
   "execution_count": null,
   "metadata": {
    "collapsed": false,
    "pycharm": {
     "name": "#%%\n"
    }
   },
   "outputs": [],
   "source": [
    "for node in G.nodes():\n",
    "    print( G.nodes[node]['subject'] )\n",
    "    break"
   ]
  },
  {
   "cell_type": "code",
   "execution_count": 3,
   "metadata": {
    "collapsed": false,
    "pycharm": {
     "name": "#%%\n"
    }
   },
   "outputs": [],
   "source": [
    "# for each node, encode weight as a feature\n",
    "for node in G.nodes():\n",
    "    enc = [ val for key, val in G.nodes[node].items() if key != 'subject' and key != 'label' ]\n",
    "    G.nodes[node]['feature'] = enc"
   ]
  },
  {
   "cell_type": "code",
   "execution_count": null,
   "metadata": {
    "collapsed": false,
    "pycharm": {
     "name": "#%%\n"
    }
   },
   "outputs": [],
   "source": [
    "for node in G.nodes( data=True ):\n",
    "    print( node )\n",
    "    break"
   ]
  },
  {
   "cell_type": "code",
   "execution_count": 4,
   "metadata": {},
   "outputs": [],
   "source": [
    "# copy graph\n",
    "from copy import deepcopy\n",
    "G2 = deepcopy(G)\n",
    "\n",
    "# remove redundant weight attributes from nodes\n",
    "for node in G2.nodes():\n",
    "    for key in G2.nodes[node].keys():\n",
    "        if key != 'subject' and key != 'label' and key != 'feature':\n",
    "            G.nodes[node].pop(key)\n",
    "\n",
    "del G2"
   ]
  },
  {
   "cell_type": "code",
   "execution_count": null,
   "metadata": {},
   "outputs": [],
   "source": [
    "# print node attributes\n",
    "for node in G.nodes( data=True ):\n",
    "    print( node )\n",
    "    break"
   ]
  },
  {
   "cell_type": "code",
   "execution_count": null,
   "metadata": {
    "collapsed": false,
    "pycharm": {
     "name": "#%%\n"
    }
   },
   "outputs": [],
   "source": [
    "print( json.dumps( list( G.nodes(data=True) )[0], indent = 4 ) )"
   ]
  },
  {
   "cell_type": "code",
   "execution_count": null,
   "metadata": {
    "collapsed": false,
    "pycharm": {
     "name": "#%%\n"
    }
   },
   "outputs": [],
   "source": [
    "print( json.dumps( list( G.edges(data=True) )[0], indent = 4 ) )"
   ]
  },
  {
   "cell_type": "markdown",
   "metadata": {
    "collapsed": false,
    "pycharm": {
     "name": "#%% md\n"
    }
   },
   "source": [
    "## Create StellarGraph"
   ]
  },
  {
   "cell_type": "code",
   "execution_count": 5,
   "metadata": {
    "collapsed": false,
    "pycharm": {
     "name": "#%%\n"
    }
   },
   "outputs": [
    {
     "name": "stdout",
     "output_type": "stream",
     "text": [
      "StellarGraph: Undirected multigraph\n",
      " Nodes: 2708, Edges: 5278\n",
      "\n",
      " Node types:\n",
      "  paper: [2708]\n",
      "    Features: float32 vector, length 1433\n",
      "    Edge types: paper-cites->paper\n",
      "\n",
      " Edge types:\n",
      "    paper-cites->paper: [5278]\n",
      "        Weights: all 1 (default)\n",
      "        Features: none\n"
     ]
    }
   ],
   "source": [
    "SG = StellarGraph.from_networkx(\n",
    "    graph=G, node_type_default=\"subject\", node_features=\"feature\"\n",
    ")\n",
    "\n",
    "print( SG.info() )"
   ]
  },
  {
   "cell_type": "code",
   "execution_count": 7,
   "metadata": {
    "collapsed": false,
    "pycharm": {
     "name": "#%%\n"
    }
   },
   "outputs": [
    {
     "name": "stdout",
     "output_type": "stream",
     "text": [
      "1033       Genetic_Algorithms\n",
      "35         Genetic_Algorithms\n",
      "103482        Neural_Networks\n",
      "103515     Genetic_Algorithms\n",
      "1050679    Genetic_Algorithms\n",
      "dtype: object\n"
     ]
    }
   ],
   "source": [
    "# create a node_subjects Pandas Series with node IDs as index and subject as value\n",
    "node_subjects = pd.Series( [ G.nodes[node]['subject'] for node in G.nodes() ], index = G.nodes() )\n",
    "print( node_subjects.head() )"
   ]
  },
  {
   "cell_type": "code",
   "execution_count": 8,
   "metadata": {
    "collapsed": false,
    "pycharm": {
     "name": "#%%\n"
    }
   },
   "outputs": [
    {
     "name": "stdout",
     "output_type": "stream",
     "text": [
      "33412            Neural_Networks\n",
      "1107067               Case_Based\n",
      "1106630          Neural_Networks\n",
      "470511                Case_Based\n",
      "1123530       Genetic_Algorithms\n",
      "                   ...          \n",
      "171225           Neural_Networks\n",
      "640617        Genetic_Algorithms\n",
      "735311           Neural_Networks\n",
      "239810                Case_Based\n",
      "108962     Probabilistic_Methods\n",
      "Length: 1895, dtype: object\n"
     ]
    }
   ],
   "source": [
    "# split into train and test sets\n",
    "train_subjects, test_subjects = model_selection.train_test_split(\n",
    "    node_subjects, train_size=0.7, test_size=None, stratify=node_subjects\n",
    ")\n",
    "\n",
    "test_subjects, val_subjects = model_selection.train_test_split(\n",
    "    test_subjects, train_size=0.5, test_size=None, stratify=test_subjects\n",
    ")\n",
    "\n",
    "print( train_subjects )"
   ]
  },
  {
   "cell_type": "code",
   "execution_count": null,
   "metadata": {
    "collapsed": false,
    "pycharm": {
     "name": "#%%\n"
    }
   },
   "outputs": [],
   "source": [
    "from collections import Counter\n",
    "Counter(train_subjects) # consider imbalance between class"
   ]
  },
  {
   "cell_type": "code",
   "execution_count": 9,
   "metadata": {
    "collapsed": false,
    "pycharm": {
     "name": "#%%\n"
    }
   },
   "outputs": [],
   "source": [
    "# One-Hot encoding\n",
    "le = preprocessing.LabelBinarizer()\n",
    "train_targets = le.fit_transform(train_subjects)\n",
    "test_targets = le.transform(test_subjects)\n",
    "val_targets = le.transform(val_subjects)"
   ]
  },
  {
   "cell_type": "code",
   "execution_count": null,
   "metadata": {
    "collapsed": false,
    "pycharm": {
     "name": "#%%\n"
    }
   },
   "outputs": [],
   "source": [
    "print( train_targets ) # for each node, the subject is encoded as a number\n",
    "\n",
    "# check its shape, should be (270, 7)\n",
    "print( train_targets.shape )"
   ]
  },
  {
   "attachments": {},
   "cell_type": "markdown",
   "metadata": {},
   "source": [
    "## Define benchmarking metrics"
   ]
  },
  {
   "cell_type": "code",
   "execution_count": 9,
   "metadata": {},
   "outputs": [],
   "source": [
    "from sklearn.metrics import confusion_matrix, precision_recall_fscore_support, roc_auc_score, accuracy_score, classification_report\n",
    "\n",
    "# write a function to calculate benchmark metrics\n",
    "\n",
    "def calculate_metrics(y_true, y_pred):\n",
    "\n",
    "    precision, recall, f1, _ = precision_recall_fscore_support(y_true, y_pred, average='micro')\n",
    "    accuracy = accuracy_score(y_true, y_pred)\n",
    "    cm = confusion_matrix(y_true, y_pred)\n",
    "    cr = classification_report(y_true, y_pred)\n",
    "\n",
    "    return precision, recall, f1, accuracy, cm, cr"
   ]
  },
  {
   "cell_type": "markdown",
   "metadata": {
    "collapsed": false,
    "pycharm": {
     "name": "#%% md\n"
    }
   },
   "source": [
    "## GraphSAGE model"
   ]
  },
  {
   "cell_type": "code",
   "execution_count": 10,
   "metadata": {
    "collapsed": false,
    "pycharm": {
     "name": "#%%\n"
    }
   },
   "outputs": [],
   "source": [
    "batch_size = 50\n",
    "num_samples = [10, 10]\n",
    "\n",
    "generator = GraphSAGENodeGenerator( SG, batch_size, num_samples )"
   ]
  },
  {
   "cell_type": "code",
   "execution_count": 11,
   "metadata": {
    "collapsed": false,
    "pycharm": {
     "name": "#%%\n"
    }
   },
   "outputs": [],
   "source": [
    "train_gen = generator.flow( train_subjects.index, train_targets, shuffle = True )"
   ]
  },
  {
   "cell_type": "code",
   "execution_count": 12,
   "metadata": {
    "collapsed": false,
    "pycharm": {
     "name": "#%%\n"
    }
   },
   "outputs": [],
   "source": [
    "graphsage_model = GraphSAGE(\n",
    "    layer_sizes=[32, 32], generator=generator, bias=True, dropout=0.5, activations=[\"relu\", \"relu\"]\n",
    ")"
   ]
  },
  {
   "cell_type": "code",
   "execution_count": 13,
   "metadata": {
    "collapsed": false,
    "pycharm": {
     "name": "#%%\n"
    }
   },
   "outputs": [
    {
     "name": "stdout",
     "output_type": "stream",
     "text": [
      "(1895, 7)\n"
     ]
    }
   ],
   "source": [
    "print( train_targets.shape )"
   ]
  },
  {
   "cell_type": "code",
   "execution_count": 14,
   "metadata": {},
   "outputs": [],
   "source": [
    "x_inp, x_out = graphsage_model.in_out_tensors()\n",
    "prediction = layers.Dense(units=train_targets.shape[1], activation=\"softmax\")(x_out)"
   ]
  },
  {
   "cell_type": "markdown",
   "metadata": {},
   "source": [
    "### Train model"
   ]
  },
  {
   "cell_type": "code",
   "execution_count": 15,
   "metadata": {},
   "outputs": [],
   "source": [
    "model = Model(inputs=x_inp, outputs=prediction)\n",
    "model.compile(\n",
    "    optimizer=optimizers.Adam( learning_rate=0.005 ),\n",
    "    loss=losses.categorical_crossentropy,\n",
    "    metrics=[\"acc\"],\n",
    ")"
   ]
  },
  {
   "cell_type": "code",
   "execution_count": 17,
   "metadata": {},
   "outputs": [
    {
     "name": "stdout",
     "output_type": "stream",
     "text": [
      "Model: \"model\"\n",
      "__________________________________________________________________________________________________\n",
      " Layer (type)                   Output Shape         Param #     Connected to                     \n",
      "==================================================================================================\n",
      " input_2 (InputLayer)           [(None, 10, 1433)]   0           []                               \n",
      "                                                                                                  \n",
      " input_3 (InputLayer)           [(None, 100, 1433)]  0           []                               \n",
      "                                                                                                  \n",
      " input_1 (InputLayer)           [(None, 1, 1433)]    0           []                               \n",
      "                                                                                                  \n",
      " reshape (Reshape)              (None, 1, 10, 1433)  0           ['input_2[0][0]']                \n",
      "                                                                                                  \n",
      " reshape_1 (Reshape)            (None, 10, 10, 1433  0           ['input_3[0][0]']                \n",
      "                                )                                                                 \n",
      "                                                                                                  \n",
      " dropout_1 (Dropout)            (None, 1, 1433)      0           ['input_1[0][0]']                \n",
      "                                                                                                  \n",
      " dropout (Dropout)              (None, 1, 10, 1433)  0           ['reshape[0][0]']                \n",
      "                                                                                                  \n",
      " dropout_3 (Dropout)            (None, 10, 1433)     0           ['input_2[0][0]']                \n",
      "                                                                                                  \n",
      " dropout_2 (Dropout)            (None, 10, 10, 1433  0           ['reshape_1[0][0]']              \n",
      "                                )                                                                 \n",
      "                                                                                                  \n",
      " mean_aggregator (MeanAggregato  multiple            45888       ['dropout_1[0][0]',              \n",
      " r)                                                               'dropout[0][0]',                \n",
      "                                                                  'dropout_3[0][0]',              \n",
      "                                                                  'dropout_2[0][0]']              \n",
      "                                                                                                  \n",
      " reshape_2 (Reshape)            (None, 1, 10, 32)    0           ['mean_aggregator[1][0]']        \n",
      "                                                                                                  \n",
      " dropout_5 (Dropout)            (None, 1, 32)        0           ['mean_aggregator[0][0]']        \n",
      "                                                                                                  \n",
      " dropout_4 (Dropout)            (None, 1, 10, 32)    0           ['reshape_2[0][0]']              \n",
      "                                                                                                  \n",
      " mean_aggregator_1 (MeanAggrega  (None, 1, 32)       1056        ['dropout_5[0][0]',              \n",
      " tor)                                                             'dropout_4[0][0]']              \n",
      "                                                                                                  \n",
      " reshape_3 (Reshape)            (None, 32)           0           ['mean_aggregator_1[0][0]']      \n",
      "                                                                                                  \n",
      " lambda (Lambda)                (None, 32)           0           ['reshape_3[0][0]']              \n",
      "                                                                                                  \n",
      " dense (Dense)                  (None, 7)            231         ['lambda[0][0]']                 \n",
      "                                                                                                  \n",
      "==================================================================================================\n",
      "Total params: 47,175\n",
      "Trainable params: 47,175\n",
      "Non-trainable params: 0\n",
      "__________________________________________________________________________________________________\n"
     ]
    }
   ],
   "source": [
    "model.summary()"
   ]
  },
  {
   "cell_type": "code",
   "execution_count": 16,
   "metadata": {},
   "outputs": [],
   "source": [
    "val_gen = generator.flow( val_subjects.index, val_targets)"
   ]
  },
  {
   "cell_type": "code",
   "execution_count": 42,
   "metadata": {},
   "outputs": [
    {
     "name": "stdout",
     "output_type": "stream",
     "text": [
      "Epoch 1/20\n",
      "38/38 - 7s - loss: 1.6169 - acc: 0.4749 - val_loss: 1.2664 - val_acc: 0.7685 - 7s/epoch - 196ms/step\n",
      "Epoch 2/20\n",
      "38/38 - 7s - loss: 1.1282 - acc: 0.7984 - val_loss: 0.9543 - val_acc: 0.8473 - 7s/epoch - 187ms/step\n",
      "Epoch 3/20\n",
      "38/38 - 7s - loss: 0.8348 - acc: 0.8770 - val_loss: 0.7546 - val_acc: 0.8547 - 7s/epoch - 182ms/step\n",
      "Epoch 4/20\n",
      "38/38 - 6s - loss: 0.6426 - acc: 0.8923 - val_loss: 0.6351 - val_acc: 0.8448 - 6s/epoch - 164ms/step\n",
      "Epoch 5/20\n",
      "38/38 - 5s - loss: 0.5088 - acc: 0.9124 - val_loss: 0.5845 - val_acc: 0.8448 - 5s/epoch - 139ms/step\n",
      "Epoch 6/20\n",
      "38/38 - 6s - loss: 0.4355 - acc: 0.9161 - val_loss: 0.5235 - val_acc: 0.8645 - 6s/epoch - 148ms/step\n",
      "Epoch 7/20\n",
      "38/38 - 6s - loss: 0.3647 - acc: 0.9303 - val_loss: 0.5437 - val_acc: 0.8522 - 6s/epoch - 166ms/step\n",
      "Epoch 8/20\n",
      "38/38 - 5s - loss: 0.3223 - acc: 0.9245 - val_loss: 0.5411 - val_acc: 0.8547 - 5s/epoch - 132ms/step\n",
      "Epoch 9/20\n",
      "38/38 - 5s - loss: 0.2883 - acc: 0.9351 - val_loss: 0.5001 - val_acc: 0.8670 - 5s/epoch - 127ms/step\n",
      "Epoch 10/20\n",
      "38/38 - 5s - loss: 0.2822 - acc: 0.9288 - val_loss: 0.5097 - val_acc: 0.8424 - 5s/epoch - 126ms/step\n",
      "Epoch 11/20\n",
      "38/38 - 5s - loss: 0.2486 - acc: 0.9425 - val_loss: 0.4765 - val_acc: 0.8645 - 5s/epoch - 136ms/step\n",
      "Epoch 12/20\n",
      "38/38 - 5s - loss: 0.2309 - acc: 0.9393 - val_loss: 0.5186 - val_acc: 0.8473 - 5s/epoch - 126ms/step\n",
      "Epoch 13/20\n",
      "38/38 - 5s - loss: 0.2198 - acc: 0.9425 - val_loss: 0.5127 - val_acc: 0.8522 - 5s/epoch - 124ms/step\n",
      "Epoch 14/20\n",
      "38/38 - 5s - loss: 0.2049 - acc: 0.9456 - val_loss: 0.5539 - val_acc: 0.8473 - 5s/epoch - 125ms/step\n",
      "Epoch 15/20\n",
      "38/38 - 5s - loss: 0.2000 - acc: 0.9446 - val_loss: 0.5187 - val_acc: 0.8522 - 5s/epoch - 140ms/step\n",
      "Epoch 16/20\n",
      "38/38 - 5s - loss: 0.1900 - acc: 0.9493 - val_loss: 0.4898 - val_acc: 0.8645 - 5s/epoch - 125ms/step\n",
      "Epoch 17/20\n",
      "38/38 - 5s - loss: 0.1857 - acc: 0.9467 - val_loss: 0.5407 - val_acc: 0.8424 - 5s/epoch - 121ms/step\n",
      "Epoch 18/20\n",
      "38/38 - 5s - loss: 0.1589 - acc: 0.9573 - val_loss: 0.5416 - val_acc: 0.8522 - 5s/epoch - 119ms/step\n",
      "Epoch 19/20\n",
      "38/38 - 5s - loss: 0.1677 - acc: 0.9515 - val_loss: 0.5628 - val_acc: 0.8473 - 5s/epoch - 126ms/step\n",
      "Epoch 20/20\n",
      "38/38 - 5s - loss: 0.1558 - acc: 0.9578 - val_loss: 0.5586 - val_acc: 0.8448 - 5s/epoch - 126ms/step\n"
     ]
    }
   ],
   "source": [
    "history = model.fit(\n",
    "    train_gen, epochs=20, validation_data= val_gen, verbose=2, shuffle=False\n",
    ")"
   ]
  },
  {
   "cell_type": "code",
   "execution_count": 43,
   "metadata": {},
   "outputs": [
    {
     "data": {
      "image/png": "[encoded data removed]",
      "text/plain": [
       "<Figure size 700x800 with 2 Axes>"
      ]
     },
     "metadata": {},
     "output_type": "display_data"
    }
   ],
   "source": [
    "sg.utils.plot_history(history)"
   ]
  },
  {
   "cell_type": "code",
   "execution_count": 44,
   "metadata": {},
   "outputs": [],
   "source": [
    "test_gen = generator.flow( test_subjects.index, test_targets )"
   ]
  },
  {
   "cell_type": "code",
   "execution_count": 45,
   "metadata": {},
   "outputs": [
    {
     "name": "stdout",
     "output_type": "stream",
     "text": [
      "9/9 [==============================] - 1s 107ms/step - loss: 0.4138 - acc: 0.8894\n",
      "\n",
      "Test Set Metrics:\n",
      "\tloss: 0.4138\n",
      "\tacc: 0.8894\n"
     ]
    }
   ],
   "source": [
    "test_metrics = model.evaluate(test_gen)\n",
    "print(\"\\nTest Set Metrics:\")\n",
    "for name, val in zip(model.metrics_names, test_metrics):\n",
    "    print(\"\\t{}: {:0.4f}\".format(name, val))"
   ]
  },
  {
   "attachments": {},
   "cell_type": "markdown",
   "metadata": {},
   "source": [
    "### Benchmark model"
   ]
  },
  {
   "cell_type": "code",
   "execution_count": 46,
   "metadata": {},
   "outputs": [
    {
     "name": "stdout",
     "output_type": "stream",
     "text": [
      "WARNING:tensorflow:6 out of the last 6 calls to <function Model.make_predict_function.<locals>.predict_function at 0x000002CD0DE871C0> triggered tf.function retracing. Tracing is expensive and the excessive number of tracings could be due to (1) creating @tf.function repeatedly in a loop, (2) passing tensors with different shapes, (3) passing Python objects instead of tensors. For (1), please define your @tf.function outside of the loop. For (2), @tf.function has reduce_retracing=True option that can avoid unnecessary retracing. For (3), please refer to https://www.tensorflow.org/guide/function#controlling_retracing and https://www.tensorflow.org/api_docs/python/tf/function for  more details.\n",
      "55/55 [==============================] - 6s 102ms/step\n"
     ]
    }
   ],
   "source": [
    "all_nodes = node_subjects.index\n",
    "all_mapper = generator.flow(all_nodes)\n",
    "all_predictions = model.predict(all_mapper)"
   ]
  },
  {
   "cell_type": "code",
   "execution_count": 47,
   "metadata": {},
   "outputs": [],
   "source": [
    "node_predictions = le.inverse_transform(all_predictions)"
   ]
  },
  {
   "cell_type": "code",
   "execution_count": 48,
   "metadata": {},
   "outputs": [
    {
     "data": {
      "text/html": [
       "<div>\n",
       "<style scoped>\n",
       "    .dataframe tbody tr th:only-of-type {\n",
       "        vertical-align: middle;\n",
       "    }\n",
       "\n",
       "    .dataframe tbody tr th {\n",
       "        vertical-align: top;\n",
       "    }\n",
       "\n",
       "    .dataframe thead th {\n",
       "        text-align: right;\n",
       "    }\n",
       "</style>\n",
       "<table border=\"1\" class=\"dataframe\">\n",
       "  <thead>\n",
       "    <tr style=\"text-align: right;\">\n",
       "      <th></th>\n",
       "      <th>Predicted</th>\n",
       "      <th>True</th>\n",
       "    </tr>\n",
       "  </thead>\n",
       "  <tbody>\n",
       "    <tr>\n",
       "      <th>1033</th>\n",
       "      <td>Genetic_Algorithms</td>\n",
       "      <td>Genetic_Algorithms</td>\n",
       "    </tr>\n",
       "    <tr>\n",
       "      <th>35</th>\n",
       "      <td>Genetic_Algorithms</td>\n",
       "      <td>Genetic_Algorithms</td>\n",
       "    </tr>\n",
       "    <tr>\n",
       "      <th>103482</th>\n",
       "      <td>Genetic_Algorithms</td>\n",
       "      <td>Neural_Networks</td>\n",
       "    </tr>\n",
       "    <tr>\n",
       "      <th>103515</th>\n",
       "      <td>Genetic_Algorithms</td>\n",
       "      <td>Genetic_Algorithms</td>\n",
       "    </tr>\n",
       "    <tr>\n",
       "      <th>1050679</th>\n",
       "      <td>Genetic_Algorithms</td>\n",
       "      <td>Genetic_Algorithms</td>\n",
       "    </tr>\n",
       "    <tr>\n",
       "      <th>1103960</th>\n",
       "      <td>Genetic_Algorithms</td>\n",
       "      <td>Genetic_Algorithms</td>\n",
       "    </tr>\n",
       "    <tr>\n",
       "      <th>1103985</th>\n",
       "      <td>Genetic_Algorithms</td>\n",
       "      <td>Genetic_Algorithms</td>\n",
       "    </tr>\n",
       "    <tr>\n",
       "      <th>1109199</th>\n",
       "      <td>Genetic_Algorithms</td>\n",
       "      <td>Genetic_Algorithms</td>\n",
       "    </tr>\n",
       "    <tr>\n",
       "      <th>1112911</th>\n",
       "      <td>Genetic_Algorithms</td>\n",
       "      <td>Genetic_Algorithms</td>\n",
       "    </tr>\n",
       "    <tr>\n",
       "      <th>1113438</th>\n",
       "      <td>Genetic_Algorithms</td>\n",
       "      <td>Genetic_Algorithms</td>\n",
       "    </tr>\n",
       "  </tbody>\n",
       "</table>\n",
       "</div>"
      ],
      "text/plain": [
       "                  Predicted                True\n",
       "1033     Genetic_Algorithms  Genetic_Algorithms\n",
       "35       Genetic_Algorithms  Genetic_Algorithms\n",
       "103482   Genetic_Algorithms     Neural_Networks\n",
       "103515   Genetic_Algorithms  Genetic_Algorithms\n",
       "1050679  Genetic_Algorithms  Genetic_Algorithms\n",
       "1103960  Genetic_Algorithms  Genetic_Algorithms\n",
       "1103985  Genetic_Algorithms  Genetic_Algorithms\n",
       "1109199  Genetic_Algorithms  Genetic_Algorithms\n",
       "1112911  Genetic_Algorithms  Genetic_Algorithms\n",
       "1113438  Genetic_Algorithms  Genetic_Algorithms"
      ]
     },
     "execution_count": 48,
     "metadata": {},
     "output_type": "execute_result"
    }
   ],
   "source": [
    "df = pd.DataFrame({\"Predicted\": node_predictions, \"True\": node_subjects})\n",
    "df.head(10)"
   ]
  },
  {
   "cell_type": "code",
   "execution_count": 49,
   "metadata": {},
   "outputs": [
    {
     "data": {
      "text/plain": [
       "True     2562\n",
       "False     146\n",
       "Name: Correct, dtype: int64"
      ]
     },
     "execution_count": 49,
     "metadata": {},
     "output_type": "execute_result"
    }
   ],
   "source": [
    "df['Correct'] = df['Predicted'] == df['True']\n",
    "df['Correct'].value_counts()"
   ]
  },
  {
   "cell_type": "code",
   "execution_count": 50,
   "metadata": {},
   "outputs": [
    {
     "data": {
      "text/plain": [
       "array([[283,   2,   2,   3,   0,   4,   4],\n",
       "       [  1, 414,   1,   1,   0,   1,   0],\n",
       "       [  3,   7, 783,   8,   8,   1,   8],\n",
       "       [  2,   0,  14, 398,   1,   2,   9],\n",
       "       [  2,   4,   2,   1, 205,   0,   3],\n",
       "       [  3,   0,   2,   1,   1, 168,   5],\n",
       "       [  5,   1,  11,  11,   3,   9, 311]], dtype=int64)"
      ]
     },
     "execution_count": 50,
     "metadata": {},
     "output_type": "execute_result"
    }
   ],
   "source": [
    "# compute confusion matrix\n",
    "confusion_matrix(df['True'], df['Predicted'])"
   ]
  },
  {
   "cell_type": "code",
   "execution_count": null,
   "metadata": {},
   "outputs": [],
   "source": [
    "accuracy = df['Correct'].value_counts()[True] / df['Correct'].value_counts().sum()\n",
    "print( accuracy )"
   ]
  },
  {
   "cell_type": "code",
   "execution_count": 51,
   "metadata": {},
   "outputs": [
    {
     "name": "stdout",
     "output_type": "stream",
     "text": [
      "0.9460856720827179 0.9460856720827179 0.9460856720827179\n"
     ]
    }
   ],
   "source": [
    "# calculate precision, recall, f1-score\n",
    "from sklearn.metrics import confusion_matrix, precision_recall_fscore_support, roc_auc_score\n",
    "precision, recall, f1, _ = precision_recall_fscore_support(df['True'], df['Predicted'], average='micro')\n",
    "print( precision, recall, f1 )"
   ]
  },
  {
   "cell_type": "code",
   "execution_count": null,
   "metadata": {},
   "outputs": [],
   "source": [
    "from sklearn.metrics import confusion_matrix, classification_report\n",
    "from sklearn.metrics import accuracy_score\n",
    "\n",
    "y_true = df['True']\n",
    "y_pred = df['Predicted']\n",
    "\n",
    "# Print the confusion matrix\n",
    "cm = confusion_matrix(y_true, y_pred)\n",
    "print(\"Confusion matrix:\\n%s\" % cm)\n",
    "\n",
    "# Print the classification report\n",
    "cr = classification_report(y_true, y_pred)\n",
    "print(\"\\nClassification report:\\n%s\" % cr)"
   ]
  },
  {
   "cell_type": "code",
   "execution_count": null,
   "metadata": {},
   "outputs": [],
   "source": [
    "# calculate metrics\n",
    "\n",
    "precision, recall, f1, accuracy, cm, cr = calculate_metrics(y_true, y_pred)"
   ]
  },
  {
   "cell_type": "code",
   "execution_count": null,
   "metadata": {},
   "outputs": [],
   "source": [
    "# print metrics\n",
    "\n",
    "print( \"Precision: \", precision )\n",
    "print( \"Recall: \", recall )\n",
    "print( \"F1: \", f1 )\n",
    "print( \"Accuracy: \", accuracy )\n",
    "print( \"Confusion matrix:\\n%s\" % cm )\n",
    "print( \"Classification report:\\n%s\" % cr )"
   ]
  },
  {
   "cell_type": "code",
   "execution_count": null,
   "metadata": {},
   "outputs": [],
   "source": [
    "# compute ROC AUC score\n",
    "\n"
   ]
  },
  {
   "cell_type": "markdown",
   "metadata": {},
   "source": [
    "## GCN model"
   ]
  },
  {
   "cell_type": "code",
   "execution_count": 12,
   "metadata": {},
   "outputs": [],
   "source": [
    "train_subjects, test_subjects = model_selection.train_test_split(\n",
    "    node_subjects, train_size=0.7, test_size=None, stratify=node_subjects\n",
    ")\n",
    "\n",
    "val_subjects, test_subjects = model_selection.train_test_split(\n",
    "    test_subjects, train_size=0.5, test_size=None, stratify=test_subjects\n",
    ")"
   ]
  },
  {
   "cell_type": "code",
   "execution_count": 13,
   "metadata": {},
   "outputs": [
    {
     "data": {
      "text/html": [
       "<div>\n",
       "<style scoped>\n",
       "    .dataframe tbody tr th:only-of-type {\n",
       "        vertical-align: middle;\n",
       "    }\n",
       "\n",
       "    .dataframe tbody tr th {\n",
       "        vertical-align: top;\n",
       "    }\n",
       "\n",
       "    .dataframe thead th {\n",
       "        text-align: right;\n",
       "    }\n",
       "</style>\n",
       "<table border=\"1\" class=\"dataframe\">\n",
       "  <thead>\n",
       "    <tr style=\"text-align: right;\">\n",
       "      <th></th>\n",
       "      <th>0</th>\n",
       "    </tr>\n",
       "  </thead>\n",
       "  <tbody>\n",
       "    <tr>\n",
       "      <th>Neural_Networks</th>\n",
       "      <td>572</td>\n",
       "    </tr>\n",
       "    <tr>\n",
       "      <th>Probabilistic_Methods</th>\n",
       "      <td>298</td>\n",
       "    </tr>\n",
       "    <tr>\n",
       "      <th>Genetic_Algorithms</th>\n",
       "      <td>292</td>\n",
       "    </tr>\n",
       "    <tr>\n",
       "      <th>Theory</th>\n",
       "      <td>246</td>\n",
       "    </tr>\n",
       "    <tr>\n",
       "      <th>Case_Based</th>\n",
       "      <td>209</td>\n",
       "    </tr>\n",
       "    <tr>\n",
       "      <th>Reinforcement_Learning</th>\n",
       "      <td>152</td>\n",
       "    </tr>\n",
       "    <tr>\n",
       "      <th>Rule_Learning</th>\n",
       "      <td>126</td>\n",
       "    </tr>\n",
       "  </tbody>\n",
       "</table>\n",
       "</div>"
      ],
      "text/plain": [
       "                          0\n",
       "Neural_Networks         572\n",
       "Probabilistic_Methods   298\n",
       "Genetic_Algorithms      292\n",
       "Theory                  246\n",
       "Case_Based              209\n",
       "Reinforcement_Learning  152\n",
       "Rule_Learning           126"
      ]
     },
     "execution_count": 13,
     "metadata": {},
     "output_type": "execute_result"
    }
   ],
   "source": [
    "train_subjects.value_counts().to_frame() # why is equal to demo?"
   ]
  },
  {
   "cell_type": "code",
   "execution_count": 14,
   "metadata": {},
   "outputs": [],
   "source": [
    "# Convert to numeric labels\n",
    "le = preprocessing.LabelBinarizer()\n",
    "train_targets = le.fit_transform(train_subjects)\n",
    "val_targets = le.transform(val_subjects)\n",
    "test_targets = le.transform(test_subjects)"
   ]
  },
  {
   "cell_type": "code",
   "execution_count": 15,
   "metadata": {},
   "outputs": [
    {
     "name": "stdout",
     "output_type": "stream",
     "text": [
      "Using GCN (local pooling) filters...\n"
     ]
    }
   ],
   "source": [
    "generator = FullBatchNodeGenerator(SG, method=\"gcn\")"
   ]
  },
  {
   "cell_type": "code",
   "execution_count": 16,
   "metadata": {},
   "outputs": [],
   "source": [
    "train_gen = generator.flow(train_subjects.index, train_targets)"
   ]
  },
  {
   "cell_type": "code",
   "execution_count": 17,
   "metadata": {},
   "outputs": [],
   "source": [
    "gcn = GCN(\n",
    "    layer_sizes=[32, 32], activations=[\"relu\", \"relu\"], generator=generator, dropout=0.5\n",
    ")"
   ]
  },
  {
   "cell_type": "code",
   "execution_count": 18,
   "metadata": {},
   "outputs": [],
   "source": [
    "x_inp, x_out = gcn.in_out_tensors()\n",
    "predictions = layers.Dense(units=train_targets.shape[1], activation=\"softmax\")(x_out)"
   ]
  },
  {
   "cell_type": "code",
   "execution_count": 20,
   "metadata": {},
   "outputs": [],
   "source": [
    "model = Model(inputs=x_inp, outputs=predictions)\n",
    "model.compile(\n",
    "    optimizer=optimizers.Adam( learning_rate=0.005 ),\n",
    "    loss=losses.categorical_crossentropy,\n",
    "    metrics=[\"acc\"],\n",
    ")"
   ]
  },
  {
   "cell_type": "code",
   "execution_count": 60,
   "metadata": {},
   "outputs": [
    {
     "name": "stdout",
     "output_type": "stream",
     "text": [
      "Model: \"model\"\n",
      "__________________________________________________________________________________________________\n",
      " Layer (type)                   Output Shape         Param #     Connected to                     \n",
      "==================================================================================================\n",
      " input_1 (InputLayer)           [(1, 2708, 1433)]    0           []                               \n",
      "                                                                                                  \n",
      " input_3 (InputLayer)           [(1, None, 2)]       0           []                               \n",
      "                                                                                                  \n",
      " input_4 (InputLayer)           [(1, None)]          0           []                               \n",
      "                                                                                                  \n",
      " dropout (Dropout)              (1, 2708, 1433)      0           ['input_1[0][0]']                \n",
      "                                                                                                  \n",
      " squeezed_sparse_conversion (Sq  (2708, 2708)        0           ['input_3[0][0]',                \n",
      " ueezedSparseConversion)                                          'input_4[0][0]']                \n",
      "                                                                                                  \n",
      " graph_convolution (GraphConvol  (1, None, 32)       45888       ['dropout[0][0]',                \n",
      " ution)                                                           'squeezed_sparse_conversion[0][0\n",
      "                                                                 ]']                              \n",
      "                                                                                                  \n",
      " dropout_1 (Dropout)            (1, None, 32)        0           ['graph_convolution[0][0]']      \n",
      "                                                                                                  \n",
      " graph_convolution_1 (GraphConv  (1, None, 32)       1056        ['dropout_1[0][0]',              \n",
      " olution)                                                         'squeezed_sparse_conversion[0][0\n",
      "                                                                 ]']                              \n",
      "                                                                                                  \n",
      " input_2 (InputLayer)           [(1, None)]          0           []                               \n",
      "                                                                                                  \n",
      " gather_indices (GatherIndices)  (1, None, 32)       0           ['graph_convolution_1[0][0]',    \n",
      "                                                                  'input_2[0][0]']                \n",
      "                                                                                                  \n",
      " dense (Dense)                  (1, None, 7)         231         ['gather_indices[0][0]']         \n",
      "                                                                                                  \n",
      "==================================================================================================\n",
      "Total params: 47,175\n",
      "Trainable params: 47,175\n",
      "Non-trainable params: 0\n",
      "__________________________________________________________________________________________________\n"
     ]
    }
   ],
   "source": [
    "# model.summary()"
   ]
  },
  {
   "cell_type": "code",
   "execution_count": 21,
   "metadata": {},
   "outputs": [],
   "source": [
    "val_gen = generator.flow(val_subjects.index, val_targets)"
   ]
  },
  {
   "cell_type": "code",
   "execution_count": 17,
   "metadata": {},
   "outputs": [],
   "source": [
    "from tensorflow.keras.callbacks import EarlyStopping\n",
    "\n",
    "es_callback = EarlyStopping(monitor=\"val_acc\", patience=50, restore_best_weights=True)"
   ]
  },
  {
   "cell_type": "code",
   "execution_count": 22,
   "metadata": {},
   "outputs": [
    {
     "name": "stdout",
     "output_type": "stream",
     "text": [
      "Epoch 1/200\n",
      "1/1 - 2s - loss: 1.9623 - acc: 0.1150 - val_loss: 1.9214 - val_acc: 0.3596 - 2s/epoch - 2s/step\n",
      "Epoch 2/200\n",
      "1/1 - 0s - loss: 1.9223 - acc: 0.2670 - val_loss: 1.8920 - val_acc: 0.3842 - 181ms/epoch - 181ms/step\n",
      "Epoch 3/200\n",
      "1/1 - 0s - loss: 1.8913 - acc: 0.3625 - val_loss: 1.8555 - val_acc: 0.3768 - 183ms/epoch - 183ms/step\n",
      "Epoch 4/200\n",
      "1/1 - 0s - loss: 1.8546 - acc: 0.3815 - val_loss: 1.8107 - val_acc: 0.3695 - 370ms/epoch - 370ms/step\n",
      "Epoch 5/200\n",
      "1/1 - 0s - loss: 1.8102 - acc: 0.4016 - val_loss: 1.7568 - val_acc: 0.3941 - 146ms/epoch - 146ms/step\n",
      "Epoch 6/200\n",
      "1/1 - 0s - loss: 1.7548 - acc: 0.4011 - val_loss: 1.6915 - val_acc: 0.4286 - 163ms/epoch - 163ms/step\n",
      "Epoch 7/200\n",
      "1/1 - 0s - loss: 1.6993 - acc: 0.4290 - val_loss: 1.6151 - val_acc: 0.4729 - 154ms/epoch - 154ms/step\n",
      "Epoch 8/200\n",
      "1/1 - 0s - loss: 1.6294 - acc: 0.4290 - val_loss: 1.5307 - val_acc: 0.5222 - 147ms/epoch - 147ms/step\n",
      "Epoch 9/200\n",
      "1/1 - 0s - loss: 1.5551 - acc: 0.4887 - val_loss: 1.4447 - val_acc: 0.5468 - 181ms/epoch - 181ms/step\n",
      "Epoch 10/200\n",
      "1/1 - 0s - loss: 1.4897 - acc: 0.4792 - val_loss: 1.3612 - val_acc: 0.5665 - 293ms/epoch - 293ms/step\n",
      "Epoch 11/200\n",
      "1/1 - 0s - loss: 1.4016 - acc: 0.5230 - val_loss: 1.2812 - val_acc: 0.5813 - 230ms/epoch - 230ms/step\n",
      "Epoch 12/200\n",
      "1/1 - 0s - loss: 1.3409 - acc: 0.5435 - val_loss: 1.2022 - val_acc: 0.5887 - 187ms/epoch - 187ms/step\n",
      "Epoch 13/200\n",
      "1/1 - 0s - loss: 1.2543 - acc: 0.5673 - val_loss: 1.1234 - val_acc: 0.6158 - 187ms/epoch - 187ms/step\n",
      "Epoch 14/200\n",
      "1/1 - 0s - loss: 1.1836 - acc: 0.5842 - val_loss: 1.0459 - val_acc: 0.6478 - 199ms/epoch - 199ms/step\n",
      "Epoch 15/200\n",
      "1/1 - 0s - loss: 1.0902 - acc: 0.6137 - val_loss: 0.9703 - val_acc: 0.7266 - 188ms/epoch - 188ms/step\n",
      "Epoch 16/200\n",
      "1/1 - 0s - loss: 1.0357 - acc: 0.6697 - val_loss: 0.8990 - val_acc: 0.7808 - 184ms/epoch - 184ms/step\n",
      "Epoch 17/200\n",
      "1/1 - 0s - loss: 0.9821 - acc: 0.7166 - val_loss: 0.8332 - val_acc: 0.8128 - 228ms/epoch - 228ms/step\n",
      "Epoch 18/200\n",
      "1/1 - 0s - loss: 0.8907 - acc: 0.7404 - val_loss: 0.7717 - val_acc: 0.8276 - 213ms/epoch - 213ms/step\n",
      "Epoch 19/200\n",
      "1/1 - 0s - loss: 0.8562 - acc: 0.7810 - val_loss: 0.7145 - val_acc: 0.8325 - 209ms/epoch - 209ms/step\n",
      "Epoch 20/200\n",
      "1/1 - 0s - loss: 0.7855 - acc: 0.7884 - val_loss: 0.6624 - val_acc: 0.8498 - 200ms/epoch - 200ms/step\n",
      "Epoch 21/200\n",
      "1/1 - 0s - loss: 0.7341 - acc: 0.8121 - val_loss: 0.6150 - val_acc: 0.8522 - 236ms/epoch - 236ms/step\n",
      "Epoch 22/200\n",
      "1/1 - 0s - loss: 0.6739 - acc: 0.8317 - val_loss: 0.5725 - val_acc: 0.8522 - 266ms/epoch - 266ms/step\n",
      "Epoch 23/200\n",
      "1/1 - 0s - loss: 0.6454 - acc: 0.8375 - val_loss: 0.5365 - val_acc: 0.8547 - 334ms/epoch - 334ms/step\n",
      "Epoch 24/200\n",
      "1/1 - 0s - loss: 0.5839 - acc: 0.8396 - val_loss: 0.5060 - val_acc: 0.8695 - 215ms/epoch - 215ms/step\n",
      "Epoch 25/200\n",
      "1/1 - 0s - loss: 0.5739 - acc: 0.8491 - val_loss: 0.4797 - val_acc: 0.8744 - 247ms/epoch - 247ms/step\n",
      "Epoch 26/200\n",
      "1/1 - 0s - loss: 0.5387 - acc: 0.8501 - val_loss: 0.4575 - val_acc: 0.8818 - 205ms/epoch - 205ms/step\n",
      "Epoch 27/200\n",
      "1/1 - 0s - loss: 0.5086 - acc: 0.8517 - val_loss: 0.4401 - val_acc: 0.8916 - 193ms/epoch - 193ms/step\n",
      "Epoch 28/200\n",
      "1/1 - 0s - loss: 0.4942 - acc: 0.8617 - val_loss: 0.4250 - val_acc: 0.8892 - 251ms/epoch - 251ms/step\n",
      "Epoch 29/200\n",
      "1/1 - 0s - loss: 0.4521 - acc: 0.8702 - val_loss: 0.4110 - val_acc: 0.8867 - 151ms/epoch - 151ms/step\n",
      "Epoch 30/200\n",
      "1/1 - 0s - loss: 0.4366 - acc: 0.8786 - val_loss: 0.4004 - val_acc: 0.8916 - 196ms/epoch - 196ms/step\n",
      "Epoch 31/200\n",
      "1/1 - 0s - loss: 0.4112 - acc: 0.8802 - val_loss: 0.3933 - val_acc: 0.8867 - 211ms/epoch - 211ms/step\n",
      "Epoch 32/200\n",
      "1/1 - 0s - loss: 0.3919 - acc: 0.8739 - val_loss: 0.3906 - val_acc: 0.8867 - 254ms/epoch - 254ms/step\n",
      "Epoch 33/200\n",
      "1/1 - 0s - loss: 0.3788 - acc: 0.8786 - val_loss: 0.3896 - val_acc: 0.8892 - 155ms/epoch - 155ms/step\n",
      "Epoch 34/200\n",
      "1/1 - 0s - loss: 0.3813 - acc: 0.8728 - val_loss: 0.3905 - val_acc: 0.8892 - 182ms/epoch - 182ms/step\n",
      "Epoch 35/200\n",
      "1/1 - 0s - loss: 0.3649 - acc: 0.8876 - val_loss: 0.3924 - val_acc: 0.8867 - 190ms/epoch - 190ms/step\n",
      "Epoch 36/200\n",
      "1/1 - 0s - loss: 0.3600 - acc: 0.8855 - val_loss: 0.3953 - val_acc: 0.8916 - 180ms/epoch - 180ms/step\n",
      "Epoch 37/200\n",
      "1/1 - 0s - loss: 0.3593 - acc: 0.8887 - val_loss: 0.3967 - val_acc: 0.8916 - 216ms/epoch - 216ms/step\n",
      "Epoch 38/200\n",
      "1/1 - 0s - loss: 0.3515 - acc: 0.8839 - val_loss: 0.3965 - val_acc: 0.8867 - 203ms/epoch - 203ms/step\n",
      "Epoch 39/200\n",
      "1/1 - 0s - loss: 0.3366 - acc: 0.8976 - val_loss: 0.3909 - val_acc: 0.8916 - 199ms/epoch - 199ms/step\n",
      "Epoch 40/200\n",
      "1/1 - 0s - loss: 0.3274 - acc: 0.8950 - val_loss: 0.3873 - val_acc: 0.8941 - 179ms/epoch - 179ms/step\n",
      "Epoch 41/200\n",
      "1/1 - 0s - loss: 0.3212 - acc: 0.8929 - val_loss: 0.3865 - val_acc: 0.8966 - 180ms/epoch - 180ms/step\n",
      "Epoch 42/200\n",
      "1/1 - 0s - loss: 0.3373 - acc: 0.8887 - val_loss: 0.3889 - val_acc: 0.8867 - 151ms/epoch - 151ms/step\n",
      "Epoch 43/200\n",
      "1/1 - 0s - loss: 0.3254 - acc: 0.8902 - val_loss: 0.3893 - val_acc: 0.8916 - 213ms/epoch - 213ms/step\n",
      "Epoch 44/200\n",
      "1/1 - 0s - loss: 0.3325 - acc: 0.8976 - val_loss: 0.3914 - val_acc: 0.8916 - 203ms/epoch - 203ms/step\n",
      "Epoch 45/200\n",
      "1/1 - 0s - loss: 0.2931 - acc: 0.8982 - val_loss: 0.3966 - val_acc: 0.8916 - 168ms/epoch - 168ms/step\n",
      "Epoch 46/200\n",
      "1/1 - 0s - loss: 0.2753 - acc: 0.9034 - val_loss: 0.4053 - val_acc: 0.8867 - 151ms/epoch - 151ms/step\n",
      "Epoch 47/200\n",
      "1/1 - 0s - loss: 0.2899 - acc: 0.9066 - val_loss: 0.4102 - val_acc: 0.8842 - 155ms/epoch - 155ms/step\n",
      "Epoch 48/200\n",
      "1/1 - 0s - loss: 0.2960 - acc: 0.8982 - val_loss: 0.4117 - val_acc: 0.8867 - 149ms/epoch - 149ms/step\n",
      "Epoch 49/200\n",
      "1/1 - 0s - loss: 0.2867 - acc: 0.9003 - val_loss: 0.4106 - val_acc: 0.8892 - 149ms/epoch - 149ms/step\n",
      "Epoch 50/200\n",
      "1/1 - 0s - loss: 0.2886 - acc: 0.9003 - val_loss: 0.4097 - val_acc: 0.8941 - 149ms/epoch - 149ms/step\n",
      "Epoch 51/200\n",
      "1/1 - 0s - loss: 0.2756 - acc: 0.9055 - val_loss: 0.4093 - val_acc: 0.8941 - 154ms/epoch - 154ms/step\n",
      "Epoch 52/200\n",
      "1/1 - 0s - loss: 0.2659 - acc: 0.9087 - val_loss: 0.4099 - val_acc: 0.8941 - 145ms/epoch - 145ms/step\n",
      "Epoch 53/200\n",
      "1/1 - 0s - loss: 0.2682 - acc: 0.9129 - val_loss: 0.4097 - val_acc: 0.8941 - 177ms/epoch - 177ms/step\n",
      "Epoch 54/200\n",
      "1/1 - 0s - loss: 0.2732 - acc: 0.9108 - val_loss: 0.4090 - val_acc: 0.8941 - 151ms/epoch - 151ms/step\n",
      "Epoch 55/200\n",
      "1/1 - 0s - loss: 0.2627 - acc: 0.9135 - val_loss: 0.4093 - val_acc: 0.8941 - 223ms/epoch - 223ms/step\n",
      "Epoch 56/200\n",
      "1/1 - 0s - loss: 0.2592 - acc: 0.9087 - val_loss: 0.4109 - val_acc: 0.8892 - 167ms/epoch - 167ms/step\n",
      "Epoch 57/200\n",
      "1/1 - 0s - loss: 0.2698 - acc: 0.9061 - val_loss: 0.4136 - val_acc: 0.8842 - 309ms/epoch - 309ms/step\n",
      "Epoch 58/200\n",
      "1/1 - 0s - loss: 0.2605 - acc: 0.9140 - val_loss: 0.4172 - val_acc: 0.8842 - 185ms/epoch - 185ms/step\n",
      "Epoch 59/200\n",
      "1/1 - 0s - loss: 0.2526 - acc: 0.9129 - val_loss: 0.4215 - val_acc: 0.8842 - 146ms/epoch - 146ms/step\n",
      "Epoch 60/200\n",
      "1/1 - 0s - loss: 0.2564 - acc: 0.9092 - val_loss: 0.4258 - val_acc: 0.8867 - 154ms/epoch - 154ms/step\n",
      "Epoch 61/200\n",
      "1/1 - 0s - loss: 0.2451 - acc: 0.9198 - val_loss: 0.4287 - val_acc: 0.8916 - 166ms/epoch - 166ms/step\n",
      "Epoch 62/200\n",
      "1/1 - 0s - loss: 0.2377 - acc: 0.9203 - val_loss: 0.4308 - val_acc: 0.8916 - 150ms/epoch - 150ms/step\n",
      "Epoch 63/200\n",
      "1/1 - 0s - loss: 0.2466 - acc: 0.9124 - val_loss: 0.4308 - val_acc: 0.8892 - 149ms/epoch - 149ms/step\n",
      "Epoch 64/200\n",
      "1/1 - 0s - loss: 0.2412 - acc: 0.9172 - val_loss: 0.4294 - val_acc: 0.8941 - 146ms/epoch - 146ms/step\n",
      "Epoch 65/200\n",
      "1/1 - 0s - loss: 0.2319 - acc: 0.9219 - val_loss: 0.4290 - val_acc: 0.8867 - 153ms/epoch - 153ms/step\n",
      "Epoch 66/200\n",
      "1/1 - 0s - loss: 0.2378 - acc: 0.9208 - val_loss: 0.4300 - val_acc: 0.8842 - 268ms/epoch - 268ms/step\n",
      "Epoch 67/200\n",
      "1/1 - 0s - loss: 0.2398 - acc: 0.9177 - val_loss: 0.4327 - val_acc: 0.8842 - 159ms/epoch - 159ms/step\n",
      "Epoch 68/200\n",
      "1/1 - 0s - loss: 0.2375 - acc: 0.9156 - val_loss: 0.4371 - val_acc: 0.8867 - 173ms/epoch - 173ms/step\n",
      "Epoch 69/200\n",
      "1/1 - 0s - loss: 0.2348 - acc: 0.9203 - val_loss: 0.4425 - val_acc: 0.8842 - 265ms/epoch - 265ms/step\n",
      "Epoch 70/200\n",
      "1/1 - 0s - loss: 0.2267 - acc: 0.9214 - val_loss: 0.4468 - val_acc: 0.8842 - 256ms/epoch - 256ms/step\n",
      "Epoch 71/200\n",
      "1/1 - 0s - loss: 0.2215 - acc: 0.9219 - val_loss: 0.4499 - val_acc: 0.8818 - 171ms/epoch - 171ms/step\n",
      "Epoch 72/200\n",
      "1/1 - 0s - loss: 0.2429 - acc: 0.9172 - val_loss: 0.4509 - val_acc: 0.8842 - 153ms/epoch - 153ms/step\n",
      "Epoch 73/200\n",
      "1/1 - 0s - loss: 0.2281 - acc: 0.9203 - val_loss: 0.4532 - val_acc: 0.8842 - 163ms/epoch - 163ms/step\n",
      "Epoch 74/200\n",
      "1/1 - 0s - loss: 0.2320 - acc: 0.9140 - val_loss: 0.4556 - val_acc: 0.8793 - 170ms/epoch - 170ms/step\n",
      "Epoch 75/200\n",
      "1/1 - 0s - loss: 0.2290 - acc: 0.9224 - val_loss: 0.4562 - val_acc: 0.8793 - 255ms/epoch - 255ms/step\n",
      "Epoch 76/200\n",
      "1/1 - 0s - loss: 0.2267 - acc: 0.9251 - val_loss: 0.4567 - val_acc: 0.8793 - 160ms/epoch - 160ms/step\n",
      "Epoch 77/200\n",
      "1/1 - 0s - loss: 0.2498 - acc: 0.9187 - val_loss: 0.4554 - val_acc: 0.8818 - 160ms/epoch - 160ms/step\n",
      "Epoch 78/200\n",
      "1/1 - 0s - loss: 0.2072 - acc: 0.9272 - val_loss: 0.4557 - val_acc: 0.8842 - 157ms/epoch - 157ms/step\n",
      "Epoch 79/200\n",
      "1/1 - 0s - loss: 0.2255 - acc: 0.9219 - val_loss: 0.4567 - val_acc: 0.8842 - 158ms/epoch - 158ms/step\n",
      "Epoch 80/200\n",
      "1/1 - 0s - loss: 0.2101 - acc: 0.9261 - val_loss: 0.4588 - val_acc: 0.8892 - 154ms/epoch - 154ms/step\n",
      "Epoch 81/200\n",
      "1/1 - 0s - loss: 0.2069 - acc: 0.9314 - val_loss: 0.4624 - val_acc: 0.8867 - 175ms/epoch - 175ms/step\n",
      "Epoch 82/200\n",
      "1/1 - 0s - loss: 0.1970 - acc: 0.9298 - val_loss: 0.4663 - val_acc: 0.8842 - 260ms/epoch - 260ms/step\n",
      "Epoch 83/200\n",
      "1/1 - 0s - loss: 0.2005 - acc: 0.9314 - val_loss: 0.4699 - val_acc: 0.8842 - 172ms/epoch - 172ms/step\n",
      "Epoch 84/200\n",
      "1/1 - 0s - loss: 0.1904 - acc: 0.9372 - val_loss: 0.4724 - val_acc: 0.8892 - 161ms/epoch - 161ms/step\n",
      "Epoch 85/200\n",
      "1/1 - 0s - loss: 0.2214 - acc: 0.9198 - val_loss: 0.4739 - val_acc: 0.8867 - 158ms/epoch - 158ms/step\n",
      "Epoch 86/200\n",
      "1/1 - 0s - loss: 0.2022 - acc: 0.9288 - val_loss: 0.4765 - val_acc: 0.8842 - 165ms/epoch - 165ms/step\n",
      "Epoch 87/200\n",
      "1/1 - 0s - loss: 0.1965 - acc: 0.9325 - val_loss: 0.4822 - val_acc: 0.8793 - 149ms/epoch - 149ms/step\n",
      "Epoch 88/200\n",
      "1/1 - 0s - loss: 0.1931 - acc: 0.9314 - val_loss: 0.4886 - val_acc: 0.8768 - 150ms/epoch - 150ms/step\n",
      "Epoch 89/200\n",
      "1/1 - 0s - loss: 0.2059 - acc: 0.9277 - val_loss: 0.4924 - val_acc: 0.8768 - 154ms/epoch - 154ms/step\n",
      "Epoch 90/200\n",
      "1/1 - 0s - loss: 0.1978 - acc: 0.9251 - val_loss: 0.4931 - val_acc: 0.8818 - 155ms/epoch - 155ms/step\n",
      "Epoch 91/200\n",
      "1/1 - 0s - loss: 0.1862 - acc: 0.9319 - val_loss: 0.4920 - val_acc: 0.8818 - 160ms/epoch - 160ms/step\n",
      "Epoch 92/200\n",
      "1/1 - 0s - loss: 0.1938 - acc: 0.9235 - val_loss: 0.4897 - val_acc: 0.8793 - 150ms/epoch - 150ms/step\n",
      "Epoch 93/200\n",
      "1/1 - 0s - loss: 0.1816 - acc: 0.9372 - val_loss: 0.4885 - val_acc: 0.8818 - 155ms/epoch - 155ms/step\n",
      "Epoch 94/200\n",
      "1/1 - 0s - loss: 0.1846 - acc: 0.9319 - val_loss: 0.4889 - val_acc: 0.8818 - 162ms/epoch - 162ms/step\n",
      "Epoch 95/200\n",
      "1/1 - 0s - loss: 0.1815 - acc: 0.9356 - val_loss: 0.4927 - val_acc: 0.8818 - 218ms/epoch - 218ms/step\n",
      "Epoch 96/200\n",
      "1/1 - 0s - loss: 0.1954 - acc: 0.9256 - val_loss: 0.4974 - val_acc: 0.8793 - 193ms/epoch - 193ms/step\n",
      "Epoch 97/200\n",
      "1/1 - 0s - loss: 0.1818 - acc: 0.9361 - val_loss: 0.5008 - val_acc: 0.8793 - 151ms/epoch - 151ms/step\n",
      "Epoch 98/200\n",
      "1/1 - 0s - loss: 0.1837 - acc: 0.9314 - val_loss: 0.5045 - val_acc: 0.8768 - 155ms/epoch - 155ms/step\n",
      "Epoch 99/200\n",
      "1/1 - 0s - loss: 0.1888 - acc: 0.9325 - val_loss: 0.5114 - val_acc: 0.8719 - 186ms/epoch - 186ms/step\n",
      "Epoch 100/200\n",
      "1/1 - 0s - loss: 0.1950 - acc: 0.9330 - val_loss: 0.5178 - val_acc: 0.8719 - 152ms/epoch - 152ms/step\n",
      "Epoch 101/200\n",
      "1/1 - 0s - loss: 0.1866 - acc: 0.9351 - val_loss: 0.5189 - val_acc: 0.8744 - 148ms/epoch - 148ms/step\n",
      "Epoch 102/200\n",
      "1/1 - 0s - loss: 0.1731 - acc: 0.9346 - val_loss: 0.5190 - val_acc: 0.8744 - 148ms/epoch - 148ms/step\n",
      "Epoch 103/200\n",
      "1/1 - 0s - loss: 0.1835 - acc: 0.9309 - val_loss: 0.5163 - val_acc: 0.8768 - 149ms/epoch - 149ms/step\n",
      "Epoch 104/200\n",
      "1/1 - 0s - loss: 0.1735 - acc: 0.9367 - val_loss: 0.5140 - val_acc: 0.8793 - 146ms/epoch - 146ms/step\n",
      "Epoch 105/200\n",
      "1/1 - 0s - loss: 0.2006 - acc: 0.9256 - val_loss: 0.5121 - val_acc: 0.8744 - 148ms/epoch - 148ms/step\n",
      "Epoch 106/200\n",
      "1/1 - 0s - loss: 0.1889 - acc: 0.9346 - val_loss: 0.5109 - val_acc: 0.8793 - 150ms/epoch - 150ms/step\n",
      "Epoch 107/200\n",
      "1/1 - 0s - loss: 0.1851 - acc: 0.9277 - val_loss: 0.5106 - val_acc: 0.8842 - 151ms/epoch - 151ms/step\n",
      "Epoch 108/200\n",
      "1/1 - 0s - loss: 0.1768 - acc: 0.9361 - val_loss: 0.5105 - val_acc: 0.8842 - 142ms/epoch - 142ms/step\n",
      "Epoch 109/200\n",
      "1/1 - 0s - loss: 0.1821 - acc: 0.9388 - val_loss: 0.5115 - val_acc: 0.8842 - 325ms/epoch - 325ms/step\n",
      "Epoch 110/200\n",
      "1/1 - 0s - loss: 0.1745 - acc: 0.9414 - val_loss: 0.5124 - val_acc: 0.8842 - 171ms/epoch - 171ms/step\n",
      "Epoch 111/200\n",
      "1/1 - 0s - loss: 0.1814 - acc: 0.9356 - val_loss: 0.5142 - val_acc: 0.8842 - 148ms/epoch - 148ms/step\n",
      "Epoch 112/200\n",
      "1/1 - 0s - loss: 0.1643 - acc: 0.9420 - val_loss: 0.5165 - val_acc: 0.8842 - 171ms/epoch - 171ms/step\n",
      "Epoch 113/200\n",
      "1/1 - 0s - loss: 0.1680 - acc: 0.9409 - val_loss: 0.5179 - val_acc: 0.8842 - 170ms/epoch - 170ms/step\n",
      "Epoch 114/200\n",
      "1/1 - 0s - loss: 0.1668 - acc: 0.9393 - val_loss: 0.5196 - val_acc: 0.8842 - 158ms/epoch - 158ms/step\n",
      "Epoch 115/200\n",
      "1/1 - 0s - loss: 0.1746 - acc: 0.9377 - val_loss: 0.5202 - val_acc: 0.8867 - 161ms/epoch - 161ms/step\n",
      "Epoch 116/200\n",
      "1/1 - 0s - loss: 0.1754 - acc: 0.9441 - val_loss: 0.5206 - val_acc: 0.8867 - 176ms/epoch - 176ms/step\n",
      "Epoch 117/200\n",
      "1/1 - 0s - loss: 0.1698 - acc: 0.9361 - val_loss: 0.5198 - val_acc: 0.8867 - 146ms/epoch - 146ms/step\n",
      "Epoch 118/200\n",
      "1/1 - 0s - loss: 0.1592 - acc: 0.9435 - val_loss: 0.5190 - val_acc: 0.8867 - 149ms/epoch - 149ms/step\n",
      "Epoch 119/200\n",
      "1/1 - 0s - loss: 0.1641 - acc: 0.9414 - val_loss: 0.5187 - val_acc: 0.8892 - 196ms/epoch - 196ms/step\n",
      "Epoch 120/200\n",
      "1/1 - 0s - loss: 0.1674 - acc: 0.9335 - val_loss: 0.5201 - val_acc: 0.8892 - 200ms/epoch - 200ms/step\n",
      "Epoch 121/200\n",
      "1/1 - 0s - loss: 0.1634 - acc: 0.9420 - val_loss: 0.5223 - val_acc: 0.8867 - 239ms/epoch - 239ms/step\n",
      "Epoch 122/200\n",
      "1/1 - 0s - loss: 0.1607 - acc: 0.9441 - val_loss: 0.5259 - val_acc: 0.8867 - 221ms/epoch - 221ms/step\n",
      "Epoch 123/200\n",
      "1/1 - 0s - loss: 0.1567 - acc: 0.9441 - val_loss: 0.5312 - val_acc: 0.8842 - 220ms/epoch - 220ms/step\n",
      "Epoch 124/200\n",
      "1/1 - 0s - loss: 0.1663 - acc: 0.9393 - val_loss: 0.5380 - val_acc: 0.8818 - 185ms/epoch - 185ms/step\n",
      "Epoch 125/200\n",
      "1/1 - 0s - loss: 0.1533 - acc: 0.9499 - val_loss: 0.5413 - val_acc: 0.8818 - 184ms/epoch - 184ms/step\n",
      "Epoch 126/200\n",
      "1/1 - 0s - loss: 0.1735 - acc: 0.9398 - val_loss: 0.5409 - val_acc: 0.8842 - 176ms/epoch - 176ms/step\n",
      "Epoch 127/200\n",
      "1/1 - 0s - loss: 0.1605 - acc: 0.9435 - val_loss: 0.5407 - val_acc: 0.8842 - 182ms/epoch - 182ms/step\n",
      "Epoch 128/200\n",
      "1/1 - 0s - loss: 0.1641 - acc: 0.9404 - val_loss: 0.5398 - val_acc: 0.8867 - 152ms/epoch - 152ms/step\n",
      "Epoch 129/200\n",
      "1/1 - 0s - loss: 0.1714 - acc: 0.9425 - val_loss: 0.5373 - val_acc: 0.8842 - 182ms/epoch - 182ms/step\n",
      "Epoch 130/200\n",
      "1/1 - 0s - loss: 0.1726 - acc: 0.9420 - val_loss: 0.5364 - val_acc: 0.8842 - 177ms/epoch - 177ms/step\n",
      "Epoch 131/200\n",
      "1/1 - 0s - loss: 0.1537 - acc: 0.9435 - val_loss: 0.5355 - val_acc: 0.8842 - 149ms/epoch - 149ms/step\n",
      "Epoch 132/200\n",
      "1/1 - 0s - loss: 0.1546 - acc: 0.9446 - val_loss: 0.5357 - val_acc: 0.8842 - 232ms/epoch - 232ms/step\n",
      "Epoch 133/200\n",
      "1/1 - 0s - loss: 0.1497 - acc: 0.9472 - val_loss: 0.5381 - val_acc: 0.8842 - 304ms/epoch - 304ms/step\n",
      "Epoch 134/200\n",
      "1/1 - 0s - loss: 0.1653 - acc: 0.9409 - val_loss: 0.5433 - val_acc: 0.8793 - 194ms/epoch - 194ms/step\n",
      "Epoch 135/200\n",
      "1/1 - 0s - loss: 0.1517 - acc: 0.9509 - val_loss: 0.5475 - val_acc: 0.8793 - 191ms/epoch - 191ms/step\n",
      "Epoch 136/200\n",
      "1/1 - 0s - loss: 0.1470 - acc: 0.9430 - val_loss: 0.5527 - val_acc: 0.8793 - 148ms/epoch - 148ms/step\n",
      "Epoch 137/200\n",
      "1/1 - 0s - loss: 0.1651 - acc: 0.9351 - val_loss: 0.5541 - val_acc: 0.8818 - 148ms/epoch - 148ms/step\n",
      "Epoch 138/200\n",
      "1/1 - 0s - loss: 0.1567 - acc: 0.9467 - val_loss: 0.5550 - val_acc: 0.8818 - 190ms/epoch - 190ms/step\n",
      "Epoch 139/200\n",
      "1/1 - 0s - loss: 0.1468 - acc: 0.9499 - val_loss: 0.5554 - val_acc: 0.8818 - 147ms/epoch - 147ms/step\n",
      "Epoch 140/200\n",
      "1/1 - 0s - loss: 0.1500 - acc: 0.9414 - val_loss: 0.5560 - val_acc: 0.8842 - 156ms/epoch - 156ms/step\n",
      "Epoch 141/200\n",
      "1/1 - 0s - loss: 0.1441 - acc: 0.9499 - val_loss: 0.5567 - val_acc: 0.8867 - 152ms/epoch - 152ms/step\n",
      "Epoch 142/200\n",
      "1/1 - 0s - loss: 0.1657 - acc: 0.9414 - val_loss: 0.5571 - val_acc: 0.8867 - 151ms/epoch - 151ms/step\n",
      "Epoch 143/200\n",
      "1/1 - 0s - loss: 0.1626 - acc: 0.9393 - val_loss: 0.5577 - val_acc: 0.8867 - 153ms/epoch - 153ms/step\n",
      "Epoch 144/200\n",
      "1/1 - 0s - loss: 0.1612 - acc: 0.9388 - val_loss: 0.5577 - val_acc: 0.8842 - 168ms/epoch - 168ms/step\n",
      "Epoch 145/200\n",
      "1/1 - 0s - loss: 0.1578 - acc: 0.9383 - val_loss: 0.5579 - val_acc: 0.8842 - 158ms/epoch - 158ms/step\n",
      "Epoch 146/200\n",
      "1/1 - 0s - loss: 0.1435 - acc: 0.9509 - val_loss: 0.5583 - val_acc: 0.8842 - 229ms/epoch - 229ms/step\n",
      "Epoch 147/200\n",
      "1/1 - 0s - loss: 0.1505 - acc: 0.9488 - val_loss: 0.5592 - val_acc: 0.8867 - 324ms/epoch - 324ms/step\n",
      "Epoch 148/200\n",
      "1/1 - 0s - loss: 0.1529 - acc: 0.9414 - val_loss: 0.5608 - val_acc: 0.8842 - 162ms/epoch - 162ms/step\n",
      "Epoch 149/200\n",
      "1/1 - 0s - loss: 0.1515 - acc: 0.9483 - val_loss: 0.5648 - val_acc: 0.8842 - 152ms/epoch - 152ms/step\n",
      "Epoch 150/200\n",
      "1/1 - 0s - loss: 0.1369 - acc: 0.9509 - val_loss: 0.5700 - val_acc: 0.8842 - 174ms/epoch - 174ms/step\n",
      "Epoch 151/200\n",
      "1/1 - 0s - loss: 0.1413 - acc: 0.9472 - val_loss: 0.5761 - val_acc: 0.8842 - 146ms/epoch - 146ms/step\n",
      "Epoch 152/200\n",
      "1/1 - 0s - loss: 0.1470 - acc: 0.9488 - val_loss: 0.5797 - val_acc: 0.8842 - 146ms/epoch - 146ms/step\n",
      "Epoch 153/200\n",
      "1/1 - 0s - loss: 0.1514 - acc: 0.9456 - val_loss: 0.5799 - val_acc: 0.8842 - 151ms/epoch - 151ms/step\n",
      "Epoch 154/200\n",
      "1/1 - 0s - loss: 0.1345 - acc: 0.9536 - val_loss: 0.5793 - val_acc: 0.8867 - 159ms/epoch - 159ms/step\n",
      "Epoch 155/200\n",
      "1/1 - 0s - loss: 0.1423 - acc: 0.9488 - val_loss: 0.5795 - val_acc: 0.8867 - 172ms/epoch - 172ms/step\n",
      "Epoch 156/200\n",
      "1/1 - 0s - loss: 0.1388 - acc: 0.9478 - val_loss: 0.5811 - val_acc: 0.8818 - 156ms/epoch - 156ms/step\n",
      "Epoch 157/200\n",
      "1/1 - 0s - loss: 0.1447 - acc: 0.9478 - val_loss: 0.5829 - val_acc: 0.8818 - 244ms/epoch - 244ms/step\n",
      "Epoch 158/200\n",
      "1/1 - 0s - loss: 0.1354 - acc: 0.9493 - val_loss: 0.5848 - val_acc: 0.8818 - 185ms/epoch - 185ms/step\n",
      "Epoch 159/200\n",
      "1/1 - 0s - loss: 0.1498 - acc: 0.9488 - val_loss: 0.5871 - val_acc: 0.8793 - 307ms/epoch - 307ms/step\n",
      "Epoch 160/200\n",
      "1/1 - 0s - loss: 0.1458 - acc: 0.9483 - val_loss: 0.5894 - val_acc: 0.8768 - 201ms/epoch - 201ms/step\n",
      "Epoch 161/200\n",
      "1/1 - 0s - loss: 0.1498 - acc: 0.9488 - val_loss: 0.5903 - val_acc: 0.8768 - 148ms/epoch - 148ms/step\n",
      "Epoch 162/200\n",
      "1/1 - 0s - loss: 0.1418 - acc: 0.9488 - val_loss: 0.5919 - val_acc: 0.8793 - 153ms/epoch - 153ms/step\n",
      "Epoch 163/200\n",
      "1/1 - 0s - loss: 0.1437 - acc: 0.9462 - val_loss: 0.5927 - val_acc: 0.8818 - 158ms/epoch - 158ms/step\n",
      "Epoch 164/200\n",
      "1/1 - 0s - loss: 0.1336 - acc: 0.9499 - val_loss: 0.5934 - val_acc: 0.8793 - 150ms/epoch - 150ms/step\n",
      "Epoch 165/200\n",
      "1/1 - 0s - loss: 0.1429 - acc: 0.9483 - val_loss: 0.5903 - val_acc: 0.8793 - 161ms/epoch - 161ms/step\n",
      "Epoch 166/200\n",
      "1/1 - 0s - loss: 0.1396 - acc: 0.9462 - val_loss: 0.5883 - val_acc: 0.8842 - 164ms/epoch - 164ms/step\n",
      "Epoch 167/200\n",
      "1/1 - 0s - loss: 0.1330 - acc: 0.9520 - val_loss: 0.5871 - val_acc: 0.8818 - 163ms/epoch - 163ms/step\n",
      "Epoch 168/200\n",
      "1/1 - 0s - loss: 0.1257 - acc: 0.9557 - val_loss: 0.5867 - val_acc: 0.8818 - 168ms/epoch - 168ms/step\n",
      "Epoch 169/200\n",
      "1/1 - 0s - loss: 0.1435 - acc: 0.9467 - val_loss: 0.5867 - val_acc: 0.8842 - 177ms/epoch - 177ms/step\n",
      "Epoch 170/200\n",
      "1/1 - 0s - loss: 0.1384 - acc: 0.9541 - val_loss: 0.5878 - val_acc: 0.8842 - 147ms/epoch - 147ms/step\n",
      "Epoch 171/200\n",
      "1/1 - 0s - loss: 0.1246 - acc: 0.9583 - val_loss: 0.5900 - val_acc: 0.8818 - 177ms/epoch - 177ms/step\n",
      "Epoch 172/200\n",
      "1/1 - 0s - loss: 0.1499 - acc: 0.9435 - val_loss: 0.5961 - val_acc: 0.8793 - 271ms/epoch - 271ms/step\n",
      "Epoch 173/200\n",
      "1/1 - 0s - loss: 0.1421 - acc: 0.9525 - val_loss: 0.6037 - val_acc: 0.8744 - 173ms/epoch - 173ms/step\n",
      "Epoch 174/200\n",
      "1/1 - 0s - loss: 0.1317 - acc: 0.9546 - val_loss: 0.6109 - val_acc: 0.8744 - 167ms/epoch - 167ms/step\n",
      "Epoch 175/200\n",
      "1/1 - 0s - loss: 0.1412 - acc: 0.9456 - val_loss: 0.6181 - val_acc: 0.8719 - 155ms/epoch - 155ms/step\n",
      "Epoch 176/200\n",
      "1/1 - 0s - loss: 0.1318 - acc: 0.9509 - val_loss: 0.6210 - val_acc: 0.8719 - 151ms/epoch - 151ms/step\n",
      "Epoch 177/200\n",
      "1/1 - 0s - loss: 0.1366 - acc: 0.9509 - val_loss: 0.6228 - val_acc: 0.8719 - 151ms/epoch - 151ms/step\n",
      "Epoch 178/200\n",
      "1/1 - 0s - loss: 0.1384 - acc: 0.9499 - val_loss: 0.6242 - val_acc: 0.8719 - 179ms/epoch - 179ms/step\n",
      "Epoch 179/200\n",
      "1/1 - 0s - loss: 0.1608 - acc: 0.9383 - val_loss: 0.6231 - val_acc: 0.8719 - 161ms/epoch - 161ms/step\n",
      "Epoch 180/200\n",
      "1/1 - 0s - loss: 0.1343 - acc: 0.9478 - val_loss: 0.6201 - val_acc: 0.8719 - 146ms/epoch - 146ms/step\n",
      "Epoch 181/200\n",
      "1/1 - 0s - loss: 0.1350 - acc: 0.9493 - val_loss: 0.6168 - val_acc: 0.8744 - 148ms/epoch - 148ms/step\n",
      "Epoch 182/200\n",
      "1/1 - 0s - loss: 0.1430 - acc: 0.9409 - val_loss: 0.6164 - val_acc: 0.8744 - 151ms/epoch - 151ms/step\n",
      "Epoch 183/200\n",
      "1/1 - 0s - loss: 0.1401 - acc: 0.9441 - val_loss: 0.6148 - val_acc: 0.8744 - 146ms/epoch - 146ms/step\n",
      "Epoch 184/200\n",
      "1/1 - 0s - loss: 0.1369 - acc: 0.9509 - val_loss: 0.6140 - val_acc: 0.8768 - 145ms/epoch - 145ms/step\n",
      "Epoch 185/200\n",
      "1/1 - 0s - loss: 0.1370 - acc: 0.9499 - val_loss: 0.6164 - val_acc: 0.8768 - 182ms/epoch - 182ms/step\n",
      "Epoch 186/200\n",
      "1/1 - 0s - loss: 0.1421 - acc: 0.9472 - val_loss: 0.6198 - val_acc: 0.8768 - 269ms/epoch - 269ms/step\n",
      "Epoch 187/200\n",
      "1/1 - 0s - loss: 0.1343 - acc: 0.9462 - val_loss: 0.6265 - val_acc: 0.8793 - 201ms/epoch - 201ms/step\n",
      "Epoch 188/200\n",
      "1/1 - 0s - loss: 0.1256 - acc: 0.9583 - val_loss: 0.6348 - val_acc: 0.8744 - 149ms/epoch - 149ms/step\n",
      "Epoch 189/200\n",
      "1/1 - 0s - loss: 0.1475 - acc: 0.9451 - val_loss: 0.6391 - val_acc: 0.8744 - 152ms/epoch - 152ms/step\n",
      "Epoch 190/200\n",
      "1/1 - 0s - loss: 0.1416 - acc: 0.9467 - val_loss: 0.6395 - val_acc: 0.8744 - 179ms/epoch - 179ms/step\n",
      "Epoch 191/200\n",
      "1/1 - 0s - loss: 0.1416 - acc: 0.9435 - val_loss: 0.6378 - val_acc: 0.8768 - 225ms/epoch - 225ms/step\n",
      "Epoch 192/200\n",
      "1/1 - 0s - loss: 0.1417 - acc: 0.9456 - val_loss: 0.6341 - val_acc: 0.8768 - 196ms/epoch - 196ms/step\n",
      "Epoch 193/200\n",
      "1/1 - 0s - loss: 0.1290 - acc: 0.9499 - val_loss: 0.6289 - val_acc: 0.8768 - 324ms/epoch - 324ms/step\n",
      "Epoch 194/200\n",
      "1/1 - 0s - loss: 0.1270 - acc: 0.9515 - val_loss: 0.6249 - val_acc: 0.8768 - 280ms/epoch - 280ms/step\n",
      "Epoch 195/200\n",
      "1/1 - 0s - loss: 0.1295 - acc: 0.9520 - val_loss: 0.6240 - val_acc: 0.8768 - 381ms/epoch - 381ms/step\n",
      "Epoch 196/200\n",
      "1/1 - 0s - loss: 0.1247 - acc: 0.9525 - val_loss: 0.6239 - val_acc: 0.8793 - 278ms/epoch - 278ms/step\n",
      "Epoch 197/200\n",
      "1/1 - 0s - loss: 0.1382 - acc: 0.9472 - val_loss: 0.6245 - val_acc: 0.8793 - 180ms/epoch - 180ms/step\n",
      "Epoch 198/200\n",
      "1/1 - 0s - loss: 0.1302 - acc: 0.9488 - val_loss: 0.6268 - val_acc: 0.8768 - 156ms/epoch - 156ms/step\n",
      "Epoch 199/200\n",
      "1/1 - 0s - loss: 0.1420 - acc: 0.9462 - val_loss: 0.6294 - val_acc: 0.8768 - 174ms/epoch - 174ms/step\n",
      "Epoch 200/200\n",
      "1/1 - 0s - loss: 0.1249 - acc: 0.9515 - val_loss: 0.6326 - val_acc: 0.8744 - 212ms/epoch - 212ms/step\n"
     ]
    }
   ],
   "source": [
    "history = model.fit(\n",
    "    train_gen,\n",
    "    epochs=200,\n",
    "    validation_data=val_gen,\n",
    "    verbose=2,\n",
    "    shuffle=False,  # this should be False, since shuffling data means shuffling the whole graph\n",
    "    # callbacks=[es_callback],\n",
    ")"
   ]
  },
  {
   "cell_type": "code",
   "execution_count": 23,
   "metadata": {},
   "outputs": [
    {
     "data": {
      "image/png": "[encoded data removed]",
      "text/plain": [
       "<Figure size 700x800 with 2 Axes>"
      ]
     },
     "metadata": {},
     "output_type": "display_data"
    }
   ],
   "source": [
    "sg.utils.plot_history(history)"
   ]
  },
  {
   "cell_type": "code",
   "execution_count": 24,
   "metadata": {},
   "outputs": [],
   "source": [
    "test_gen = generator.flow(test_subjects.index, test_targets)"
   ]
  },
  {
   "cell_type": "code",
   "execution_count": 25,
   "metadata": {},
   "outputs": [
    {
     "name": "stdout",
     "output_type": "stream",
     "text": [
      "1/1 [==============================] - 0s 82ms/step - loss: 0.4926 - acc: 0.8747\n",
      "\n",
      "Test Set Metrics:\n",
      "\tloss: 0.4926\n",
      "\tacc: 0.8747\n"
     ]
    }
   ],
   "source": [
    "test_metrics = model.evaluate(test_gen)\n",
    "print(\"\\nTest Set Metrics:\")\n",
    "for name, val in zip(model.metrics_names, test_metrics):\n",
    "    print(\"\\t{}: {:0.4f}\".format(name, val))"
   ]
  },
  {
   "attachments": {},
   "cell_type": "markdown",
   "metadata": {},
   "source": [
    "### Benchmark"
   ]
  },
  {
   "cell_type": "code",
   "execution_count": 26,
   "metadata": {},
   "outputs": [
    {
     "name": "stdout",
     "output_type": "stream",
     "text": [
      "1/1 [==============================] - 0s 230ms/step\n"
     ]
    }
   ],
   "source": [
    "all_nodes = node_subjects.index\n",
    "all_mapper = generator.flow(all_nodes)\n",
    "all_predictions = model.predict(all_mapper)"
   ]
  },
  {
   "cell_type": "code",
   "execution_count": 27,
   "metadata": {},
   "outputs": [],
   "source": [
    "# Inverse transform the predictions to get the node labels\n",
    "node_predictions = le.inverse_transform(all_predictions.squeeze())"
   ]
  },
  {
   "cell_type": "code",
   "execution_count": 28,
   "metadata": {},
   "outputs": [
    {
     "data": {
      "text/html": [
       "<div>\n",
       "<style scoped>\n",
       "    .dataframe tbody tr th:only-of-type {\n",
       "        vertical-align: middle;\n",
       "    }\n",
       "\n",
       "    .dataframe tbody tr th {\n",
       "        vertical-align: top;\n",
       "    }\n",
       "\n",
       "    .dataframe thead th {\n",
       "        text-align: right;\n",
       "    }\n",
       "</style>\n",
       "<table border=\"1\" class=\"dataframe\">\n",
       "  <thead>\n",
       "    <tr style=\"text-align: right;\">\n",
       "      <th></th>\n",
       "      <th>Predicted</th>\n",
       "      <th>True</th>\n",
       "    </tr>\n",
       "  </thead>\n",
       "  <tbody>\n",
       "    <tr>\n",
       "      <th>1033</th>\n",
       "      <td>Genetic_Algorithms</td>\n",
       "      <td>Genetic_Algorithms</td>\n",
       "    </tr>\n",
       "    <tr>\n",
       "      <th>35</th>\n",
       "      <td>Genetic_Algorithms</td>\n",
       "      <td>Genetic_Algorithms</td>\n",
       "    </tr>\n",
       "    <tr>\n",
       "      <th>103482</th>\n",
       "      <td>Theory</td>\n",
       "      <td>Neural_Networks</td>\n",
       "    </tr>\n",
       "    <tr>\n",
       "      <th>103515</th>\n",
       "      <td>Genetic_Algorithms</td>\n",
       "      <td>Genetic_Algorithms</td>\n",
       "    </tr>\n",
       "    <tr>\n",
       "      <th>1050679</th>\n",
       "      <td>Genetic_Algorithms</td>\n",
       "      <td>Genetic_Algorithms</td>\n",
       "    </tr>\n",
       "    <tr>\n",
       "      <th>1103960</th>\n",
       "      <td>Genetic_Algorithms</td>\n",
       "      <td>Genetic_Algorithms</td>\n",
       "    </tr>\n",
       "    <tr>\n",
       "      <th>1103985</th>\n",
       "      <td>Genetic_Algorithms</td>\n",
       "      <td>Genetic_Algorithms</td>\n",
       "    </tr>\n",
       "    <tr>\n",
       "      <th>1109199</th>\n",
       "      <td>Genetic_Algorithms</td>\n",
       "      <td>Genetic_Algorithms</td>\n",
       "    </tr>\n",
       "    <tr>\n",
       "      <th>1112911</th>\n",
       "      <td>Genetic_Algorithms</td>\n",
       "      <td>Genetic_Algorithms</td>\n",
       "    </tr>\n",
       "    <tr>\n",
       "      <th>1113438</th>\n",
       "      <td>Genetic_Algorithms</td>\n",
       "      <td>Genetic_Algorithms</td>\n",
       "    </tr>\n",
       "    <tr>\n",
       "      <th>1113831</th>\n",
       "      <td>Genetic_Algorithms</td>\n",
       "      <td>Genetic_Algorithms</td>\n",
       "    </tr>\n",
       "    <tr>\n",
       "      <th>1114331</th>\n",
       "      <td>Genetic_Algorithms</td>\n",
       "      <td>Genetic_Algorithms</td>\n",
       "    </tr>\n",
       "    <tr>\n",
       "      <th>1117476</th>\n",
       "      <td>Genetic_Algorithms</td>\n",
       "      <td>Genetic_Algorithms</td>\n",
       "    </tr>\n",
       "    <tr>\n",
       "      <th>1119505</th>\n",
       "      <td>Genetic_Algorithms</td>\n",
       "      <td>Genetic_Algorithms</td>\n",
       "    </tr>\n",
       "    <tr>\n",
       "      <th>1119708</th>\n",
       "      <td>Genetic_Algorithms</td>\n",
       "      <td>Genetic_Algorithms</td>\n",
       "    </tr>\n",
       "    <tr>\n",
       "      <th>1120431</th>\n",
       "      <td>Neural_Networks</td>\n",
       "      <td>Neural_Networks</td>\n",
       "    </tr>\n",
       "    <tr>\n",
       "      <th>1123756</th>\n",
       "      <td>Genetic_Algorithms</td>\n",
       "      <td>Genetic_Algorithms</td>\n",
       "    </tr>\n",
       "    <tr>\n",
       "      <th>1125386</th>\n",
       "      <td>Theory</td>\n",
       "      <td>Theory</td>\n",
       "    </tr>\n",
       "    <tr>\n",
       "      <th>1127430</th>\n",
       "      <td>Genetic_Algorithms</td>\n",
       "      <td>Genetic_Algorithms</td>\n",
       "    </tr>\n",
       "    <tr>\n",
       "      <th>1127913</th>\n",
       "      <td>Genetic_Algorithms</td>\n",
       "      <td>Genetic_Algorithms</td>\n",
       "    </tr>\n",
       "  </tbody>\n",
       "</table>\n",
       "</div>"
      ],
      "text/plain": [
       "                  Predicted                True\n",
       "1033     Genetic_Algorithms  Genetic_Algorithms\n",
       "35       Genetic_Algorithms  Genetic_Algorithms\n",
       "103482               Theory     Neural_Networks\n",
       "103515   Genetic_Algorithms  Genetic_Algorithms\n",
       "1050679  Genetic_Algorithms  Genetic_Algorithms\n",
       "1103960  Genetic_Algorithms  Genetic_Algorithms\n",
       "1103985  Genetic_Algorithms  Genetic_Algorithms\n",
       "1109199  Genetic_Algorithms  Genetic_Algorithms\n",
       "1112911  Genetic_Algorithms  Genetic_Algorithms\n",
       "1113438  Genetic_Algorithms  Genetic_Algorithms\n",
       "1113831  Genetic_Algorithms  Genetic_Algorithms\n",
       "1114331  Genetic_Algorithms  Genetic_Algorithms\n",
       "1117476  Genetic_Algorithms  Genetic_Algorithms\n",
       "1119505  Genetic_Algorithms  Genetic_Algorithms\n",
       "1119708  Genetic_Algorithms  Genetic_Algorithms\n",
       "1120431     Neural_Networks     Neural_Networks\n",
       "1123756  Genetic_Algorithms  Genetic_Algorithms\n",
       "1125386              Theory              Theory\n",
       "1127430  Genetic_Algorithms  Genetic_Algorithms\n",
       "1127913  Genetic_Algorithms  Genetic_Algorithms"
      ]
     },
     "execution_count": 28,
     "metadata": {},
     "output_type": "execute_result"
    }
   ],
   "source": [
    "df = pd.DataFrame({\"Predicted\": node_predictions, \"True\": node_subjects})\n",
    "df.head(20)"
   ]
  },
  {
   "cell_type": "code",
   "execution_count": 29,
   "metadata": {},
   "outputs": [
    {
     "data": {
      "text/plain": [
       "True     2575\n",
       "False     133\n",
       "Name: Correct, dtype: int64"
      ]
     },
     "execution_count": 29,
     "metadata": {},
     "output_type": "execute_result"
    }
   ],
   "source": [
    "df['Correct'] = df['Predicted'] == df['True']\n",
    "df['Correct'].value_counts()"
   ]
  },
  {
   "cell_type": "code",
   "execution_count": 30,
   "metadata": {},
   "outputs": [
    {
     "name": "stdout",
     "output_type": "stream",
     "text": [
      "['Case_Based' 'Genetic_Algorithms' 'Neural_Networks'\n",
      " 'Probabilistic_Methods' 'Reinforcement_Learning' 'Rule_Learning' 'Theory']\n"
     ]
    }
   ],
   "source": [
    "print( le.classes_ )"
   ]
  },
  {
   "cell_type": "code",
   "execution_count": 46,
   "metadata": {},
   "outputs": [
    {
     "name": "stdout",
     "output_type": "stream",
     "text": [
      "Confusion matrix:\n",
      "[[284   1   3   2   2   2   4]\n",
      " [  5 411   0   0   2   0   0]\n",
      " [  8   4 776  11   5   1  13]\n",
      " [  0   0   7 410   0   0   9]\n",
      " [  1   3   7   1 201   0   4]\n",
      " [  5   0   0   2   0 168   5]\n",
      " [  4   1   6  10   3   2 325]]\n",
      "\n",
      "{'Case_Based': {'tp': 284, 'fp': 23, 'fn': 14, 'tn': 2387}, 'Genetic_Algorithms': {'tp': 411, 'fp': 9, 'fn': 7, 'tn': 2281}, 'Neural_Networks': {'tp': 776, 'fp': 23, 'fn': 42, 'tn': 1867}, 'Probabilistic_Methods': {'tp': 410, 'fp': 26, 'fn': 16, 'tn': 2256}, 'Reinforcement_Learning': {'tp': 201, 'fp': 12, 'fn': 16, 'tn': 2479}, 'Rule_Learning': {'tp': 168, 'fp': 5, 'fn': 12, 'tn': 2523}, 'Theory': {'tp': 325, 'fp': 35, 'fn': 26, 'tn': 2322}}\n",
      "2575 133 133 16115\n",
      "0.9508862629246676 0.9508862629246676 0.9508862629246676\n"
     ]
    }
   ],
   "source": [
    "y_true = df['True']\n",
    "y_pred = df['Predicted']\n",
    "\n",
    "# Compute the confusion matrix\n",
    "cm = confusion_matrix(y_true, y_pred, labels=le.classes_)\n",
    "print(\"Confusion matrix:\\n%s\\n\" % cm)\n",
    "\n",
    "# for each class, calculate tp, fp, fn, tn and save to a dictionary\n",
    "# tp = true positive, fp = false positive, fn = false negative, tn = true negative\n",
    "\n",
    "cm_dict = {}\n",
    "for i, label in enumerate(le.classes_):\n",
    "    tp = cm[i, i]\n",
    "    fp = cm[:, i].sum() - tp\n",
    "    fn = cm[i, :].sum() - tp\n",
    "    tn = cm.sum() - tp - fp - fn\n",
    "\n",
    "    cm_dict[label] = {\"tp\": tp, \"fp\": fp, \"fn\": fn, \"tn\": tn}\n",
    "\n",
    "# print the confusion matrix dictionary\n",
    "print( cm_dict )\n",
    "\n",
    "# sum all tp, fp, fn, tn\n",
    "tp = fp = fn = tn = 0\n",
    "for label in le.classes_ :\n",
    "    tp += cm_dict[label]['tp']\n",
    "    fp += cm_dict[label]['fp']\n",
    "    fn += cm_dict[label]['fn']\n",
    "    tn += cm_dict[label]['tn']\n",
    "\n",
    "# print the sum of tp, fp, fn, tn\n",
    "print( tp, fp, fn, tn )\n",
    "\n",
    "# calculate precision, recall, f1-score\n",
    "# precision = tp / (tp + fp)\n",
    "# recall = tp / (tp + fn)\n",
    "# f1 = 2 * (precision * recall) / (precision + recall)\n",
    "\n",
    "precision = tp / (tp + fp)\n",
    "recall = tp / (tp + fn)\n",
    "f1 = 2 * (precision * recall) / (precision + recall)\n",
    "\n",
    "# print the metrics\n",
    "print( precision, recall, f1 ) # so it is the same as compute_metrics function returns\n",
    "\n",
    "# -> Quindi anche la funzione compute_metrics è sbagliata, perché non calcola bene la precision, recall e f1\n"
   ]
  },
  {
   "cell_type": "code",
   "execution_count": 51,
   "metadata": {},
   "outputs": [],
   "source": [
    "# Compute precison and recall for each class and save to a dictionary\n",
    "pr_dict = {}\n",
    "for label in le.classes_:\n",
    "    tp = cm_dict[label]['tp']\n",
    "    fp = cm_dict[label]['fp']\n",
    "    fn = cm_dict[label]['fn']\n",
    "\n",
    "    precision = tp / (tp + fp)\n",
    "    recall = tp / (tp + fn)\n",
    "\n",
    "    pr_dict[label] = {\"precision\": precision, \"recall\": recall}"
   ]
  },
  {
   "cell_type": "code",
   "execution_count": 52,
   "metadata": {},
   "outputs": [
    {
     "name": "stdout",
     "output_type": "stream",
     "text": [
      "{'Case_Based': {'precision': 0.9250814332247557, 'recall': 0.9530201342281879}, 'Genetic_Algorithms': {'precision': 0.9785714285714285, 'recall': 0.9832535885167464}, 'Neural_Networks': {'precision': 0.9712140175219024, 'recall': 0.9486552567237164}, 'Probabilistic_Methods': {'precision': 0.9403669724770642, 'recall': 0.9624413145539906}, 'Reinforcement_Learning': {'precision': 0.9436619718309859, 'recall': 0.9262672811059908}, 'Rule_Learning': {'precision': 0.9710982658959537, 'recall': 0.9333333333333333}, 'Theory': {'precision': 0.9027777777777778, 'recall': 0.9259259259259259}}\n"
     ]
    }
   ],
   "source": [
    "# print the precision and recall dictionary\n",
    "print( pr_dict )"
   ]
  },
  {
   "cell_type": "code",
   "execution_count": 47,
   "metadata": {},
   "outputs": [
    {
     "name": "stdout",
     "output_type": "stream",
     "text": [
      "\n",
      "Classification report:\n",
      "                        precision    recall  f1-score   support\n",
      "\n",
      "            Case_Based       0.93      0.95      0.94       298\n",
      "    Genetic_Algorithms       0.98      0.98      0.98       418\n",
      "       Neural_Networks       0.97      0.95      0.96       818\n",
      " Probabilistic_Methods       0.94      0.96      0.95       426\n",
      "Reinforcement_Learning       0.94      0.93      0.93       217\n",
      "         Rule_Learning       0.97      0.93      0.95       180\n",
      "                Theory       0.90      0.93      0.91       351\n",
      "\n",
      "              accuracy                           0.95      2708\n",
      "             macro avg       0.95      0.95      0.95      2708\n",
      "          weighted avg       0.95      0.95      0.95      2708\n",
      "\n"
     ]
    }
   ],
   "source": [
    "# print the classification report\n",
    "cr = classification_report(y_true, y_pred)\n",
    "print(\"\\nClassification report:\\n%s\" % cr)"
   ]
  },
  {
   "cell_type": "code",
   "execution_count": 45,
   "metadata": {},
   "outputs": [
    {
     "name": "stdout",
     "output_type": "stream",
     "text": [
      "Precision:  0.9508862629246676\n",
      "Recall:  0.9508862629246676\n",
      "F1:  0.9508862629246676\n"
     ]
    }
   ],
   "source": [
    "# Calculate benchmark metrics\n",
    "\n",
    "precision, recall, f1, accuracy, cm, cr = calculate_metrics(df['True'], df['Predicted'])\n",
    "\n",
    "# Print the metrics\n",
    "print( \"Precision: \", precision )\n",
    "print( \"Recall: \", recall )\n",
    "print( \"F1: \", f1 )"
   ]
  },
  {
   "cell_type": "code",
   "execution_count": 34,
   "metadata": {},
   "outputs": [
    {
     "name": "stdout",
     "output_type": "stream",
     "text": [
      "F-1 score:  0.9268833087149188\n"
     ]
    }
   ],
   "source": [
    "# Print the metrics\n",
    "print(\"F-1 score: \", f1)"
   ]
  },
  {
   "cell_type": "code",
   "execution_count": 29,
   "metadata": {},
   "outputs": [
    {
     "name": "stdout",
     "output_type": "stream",
     "text": [
      "Classification report:\n",
      "                        precision    recall  f1-score   support\n",
      "\n",
      "            Case_Based       0.88      0.93      0.91       298\n",
      "    Genetic_Algorithms       0.97      0.97      0.97       418\n",
      "       Neural_Networks       0.95      0.94      0.94       818\n",
      " Probabilistic_Methods       0.95      0.92      0.93       426\n",
      "Reinforcement_Learning       0.91      0.90      0.90       217\n",
      "         Rule_Learning       0.95      0.89      0.92       180\n",
      "                Theory       0.84      0.90      0.87       351\n",
      "\n",
      "              accuracy                           0.93      2708\n",
      "             macro avg       0.92      0.92      0.92      2708\n",
      "          weighted avg       0.93      0.93      0.93      2708\n",
      "\n"
     ]
    }
   ],
   "source": [
    "# print classification report\n",
    "\n",
    "print( \"Classification report:\\n%s\" % cr )"
   ]
  },
  {
   "cell_type": "code",
   "execution_count": 59,
   "metadata": {},
   "outputs": [
    {
     "name": "stdout",
     "output_type": "stream",
     "text": [
      "[1 1 2 ... 2 2 2]\n"
     ]
    },
    {
     "ename": "AxisError",
     "evalue": "axis 1 is out of bounds for array of dimension 1",
     "output_type": "error",
     "traceback": [
      "\u001b[1;31m---------------------------------------------------------------------------\u001b[0m",
      "\u001b[1;31mAxisError\u001b[0m                                 Traceback (most recent call last)",
      "Cell \u001b[1;32mIn [59], line 11\u001b[0m\n\u001b[0;32m      7\u001b[0m y_pred \u001b[39m=\u001b[39m le\u001b[39m.\u001b[39mtransform(df[\u001b[39m'\u001b[39m\u001b[39mPredicted\u001b[39m\u001b[39m'\u001b[39m])\n\u001b[0;32m      9\u001b[0m \u001b[39mprint\u001b[39m( y_true )\n\u001b[1;32m---> 11\u001b[0m auc \u001b[39m=\u001b[39m roc_auc_score(y_true, y_pred, multi_class\u001b[39m=\u001b[39;49m\u001b[39m'\u001b[39;49m\u001b[39movo\u001b[39;49m\u001b[39m'\u001b[39;49m)\n",
      "File \u001b[1;32mc:\\Users\\zhzj\\anaconda3\\envs\\rse-preliminary-analysis\\lib\\site-packages\\sklearn\\metrics\\_ranking.py:563\u001b[0m, in \u001b[0;36mroc_auc_score\u001b[1;34m(y_true, y_score, average, sample_weight, max_fpr, multi_class, labels)\u001b[0m\n\u001b[0;32m    561\u001b[0m     \u001b[39mif\u001b[39;00m multi_class \u001b[39m==\u001b[39m \u001b[39m\"\u001b[39m\u001b[39mraise\u001b[39m\u001b[39m\"\u001b[39m:\n\u001b[0;32m    562\u001b[0m         \u001b[39mraise\u001b[39;00m \u001b[39mValueError\u001b[39;00m(\u001b[39m\"\u001b[39m\u001b[39mmulti_class must be in (\u001b[39m\u001b[39m'\u001b[39m\u001b[39movo\u001b[39m\u001b[39m'\u001b[39m\u001b[39m, \u001b[39m\u001b[39m'\u001b[39m\u001b[39movr\u001b[39m\u001b[39m'\u001b[39m\u001b[39m)\u001b[39m\u001b[39m\"\u001b[39m)\n\u001b[1;32m--> 563\u001b[0m     \u001b[39mreturn\u001b[39;00m _multiclass_roc_auc_score(\n\u001b[0;32m    564\u001b[0m         y_true, y_score, labels, multi_class, average, sample_weight\n\u001b[0;32m    565\u001b[0m     )\n\u001b[0;32m    566\u001b[0m \u001b[39melif\u001b[39;00m y_type \u001b[39m==\u001b[39m \u001b[39m\"\u001b[39m\u001b[39mbinary\u001b[39m\u001b[39m\"\u001b[39m:\n\u001b[0;32m    567\u001b[0m     labels \u001b[39m=\u001b[39m np\u001b[39m.\u001b[39munique(y_true)\n",
      "File \u001b[1;32mc:\\Users\\zhzj\\anaconda3\\envs\\rse-preliminary-analysis\\lib\\site-packages\\sklearn\\metrics\\_ranking.py:629\u001b[0m, in \u001b[0;36m_multiclass_roc_auc_score\u001b[1;34m(y_true, y_score, labels, multi_class, average, sample_weight)\u001b[0m\n\u001b[0;32m    589\u001b[0m \u001b[39m\"\"\"Multiclass roc auc score.\u001b[39;00m\n\u001b[0;32m    590\u001b[0m \n\u001b[0;32m    591\u001b[0m \u001b[39mParameters\u001b[39;00m\n\u001b[1;32m   (...)\u001b[0m\n\u001b[0;32m    626\u001b[0m \n\u001b[0;32m    627\u001b[0m \u001b[39m\"\"\"\u001b[39;00m\n\u001b[0;32m    628\u001b[0m \u001b[39m# validation of the input y_score\u001b[39;00m\n\u001b[1;32m--> 629\u001b[0m \u001b[39mif\u001b[39;00m \u001b[39mnot\u001b[39;00m np\u001b[39m.\u001b[39mallclose(\u001b[39m1\u001b[39m, y_score\u001b[39m.\u001b[39;49msum(axis\u001b[39m=\u001b[39;49m\u001b[39m1\u001b[39;49m)):\n\u001b[0;32m    630\u001b[0m     \u001b[39mraise\u001b[39;00m \u001b[39mValueError\u001b[39;00m(\n\u001b[0;32m    631\u001b[0m         \u001b[39m\"\u001b[39m\u001b[39mTarget scores need to be probabilities for multiclass \u001b[39m\u001b[39m\"\u001b[39m\n\u001b[0;32m    632\u001b[0m         \u001b[39m\"\u001b[39m\u001b[39mroc_auc, i.e. they should sum up to 1.0 over classes\u001b[39m\u001b[39m\"\u001b[39m\n\u001b[0;32m    633\u001b[0m     )\n\u001b[0;32m    635\u001b[0m \u001b[39m# validation for multiclass parameter specifications\u001b[39;00m\n",
      "File \u001b[1;32mc:\\Users\\zhzj\\anaconda3\\envs\\rse-preliminary-analysis\\lib\\site-packages\\numpy\\core\\_methods.py:48\u001b[0m, in \u001b[0;36m_sum\u001b[1;34m(a, axis, dtype, out, keepdims, initial, where)\u001b[0m\n\u001b[0;32m     46\u001b[0m \u001b[39mdef\u001b[39;00m \u001b[39m_sum\u001b[39m(a, axis\u001b[39m=\u001b[39m\u001b[39mNone\u001b[39;00m, dtype\u001b[39m=\u001b[39m\u001b[39mNone\u001b[39;00m, out\u001b[39m=\u001b[39m\u001b[39mNone\u001b[39;00m, keepdims\u001b[39m=\u001b[39m\u001b[39mFalse\u001b[39;00m,\n\u001b[0;32m     47\u001b[0m          initial\u001b[39m=\u001b[39m_NoValue, where\u001b[39m=\u001b[39m\u001b[39mTrue\u001b[39;00m):\n\u001b[1;32m---> 48\u001b[0m     \u001b[39mreturn\u001b[39;00m umr_sum(a, axis, dtype, out, keepdims, initial, where)\n",
      "\u001b[1;31mAxisError\u001b[0m: axis 1 is out of bounds for array of dimension 1"
     ]
    }
   ],
   "source": [
    "# auc-roc score\n",
    "from sklearn.metrics import roc_auc_score\n",
    "\n",
    "# rename string to numeric labels\n",
    "le = preprocessing.LabelEncoder()\n",
    "y_true = le.fit_transform(df['True'])\n",
    "y_pred = le.transform(df['Predicted'])\n",
    "\n",
    "print( y_true )\n",
    "\n",
    "auc = roc_auc_score(y_true, y_pred, multi_class='ovo')"
   ]
  },
  {
   "cell_type": "code",
   "execution_count": 33,
   "metadata": {},
   "outputs": [
    {
     "name": "stdout",
     "output_type": "stream",
     "text": [
      "WARNING:tensorflow:5 out of the last 5 calls to <function Model.make_predict_function.<locals>.predict_function at 0x000002CDA66725F0> triggered tf.function retracing. Tracing is expensive and the excessive number of tracings could be due to (1) creating @tf.function repeatedly in a loop, (2) passing tensors with different shapes, (3) passing Python objects instead of tensors. For (1), please define your @tf.function outside of the loop. For (2), @tf.function has reduce_retracing=True option that can avoid unnecessary retracing. For (3), please refer to https://www.tensorflow.org/guide/function#controlling_retracing and https://www.tensorflow.org/api_docs/python/tf/function for  more details.\n",
      "1/1 [==============================] - 0s 163ms/step\n"
     ]
    },
    {
     "name": "stderr",
     "output_type": "stream",
     "text": [
      "c:\\Users\\zhzj\\anaconda3\\envs\\rse-preliminary-analysis\\lib\\site-packages\\sklearn\\manifold\\_t_sne.py:795: FutureWarning: The default initialization in TSNE will change from 'random' to 'pca' in 1.2.\n",
      "  warnings.warn(\n",
      "c:\\Users\\zhzj\\anaconda3\\envs\\rse-preliminary-analysis\\lib\\site-packages\\sklearn\\manifold\\_t_sne.py:805: FutureWarning: The default learning rate in TSNE will change from 200.0 to 'auto' in 1.2.\n",
      "  warnings.warn(\n"
     ]
    },
    {
     "data": {
      "text/plain": [
       "[None,\n",
       " Text(0.5, 0, '$X_1$'),\n",
       " Text(0, 0.5, '$X_2$'),\n",
       " Text(0.5, 1.0, 'TSNE visualization of GCN embeddings for cora dataset')]"
      ]
     },
     "execution_count": 33,
     "metadata": {},
     "output_type": "execute_result"
    },
    {
     "data": {
      "image/png": "[encoded data removed]",
      "text/plain": [
       "<Figure size 700x700 with 1 Axes>"
      ]
     },
     "metadata": {},
     "output_type": "display_data"
    }
   ],
   "source": [
    "# embedding\n",
    "embedding_model = Model( inputs = x_inp, outputs = x_out )\n",
    "emb = embedding_model.predict( all_mapper )\n",
    "\n",
    "from matplotlib import pyplot as plt\n",
    "from sklearn.decomposition import PCA\n",
    "from sklearn.manifold import TSNE\n",
    "\n",
    "transform = TSNE # PCA\n",
    "\n",
    "X = emb.squeeze(0)\n",
    "\n",
    "trans = transform( n_components = 2 )\n",
    "X_reduced = trans.fit_transform( X )\n",
    "\n",
    "fig, ax = plt.subplots(figsize=(7, 7))\n",
    "ax.scatter(\n",
    "    X_reduced[:, 0],\n",
    "    X_reduced[:, 1],\n",
    "    c=node_subjects.astype(\"category\").cat.codes,\n",
    "    cmap=\"jet\",\n",
    "    alpha=0.7,\n",
    ")\n",
    "ax.set(\n",
    "    aspect=\"equal\",\n",
    "    xlabel=\"$X_1$\",\n",
    "    ylabel=\"$X_2$\",\n",
    "    title=f\"{transform.__name__} visualization of GCN embeddings for cora dataset\",\n",
    ")\n"
   ]
  },
  {
   "attachments": {},
   "cell_type": "markdown",
   "metadata": {},
   "source": [
    "## GAT model"
   ]
  },
  {
   "cell_type": "code",
   "execution_count": 18,
   "metadata": {},
   "outputs": [],
   "source": [
    "from stellargraph.mapper import FullBatchNodeGenerator\n",
    "from stellargraph.layer import GAT"
   ]
  },
  {
   "cell_type": "code",
   "execution_count": 19,
   "metadata": {},
   "outputs": [],
   "source": [
    "# split data\n",
    "train_subjects, test_subjects = model_selection.train_test_split(\n",
    "    node_subjects, train_size=0.7, test_size=None, stratify=node_subjects, random_state=42\n",
    ")\n",
    "\n",
    "val_subjects, test_subjects = model_selection.train_test_split(\n",
    "    test_subjects, train_size=0.5, test_size=None, stratify=test_subjects\n",
    ")"
   ]
  },
  {
   "cell_type": "code",
   "execution_count": 20,
   "metadata": {},
   "outputs": [
    {
     "data": {
      "text/plain": [
       "Counter({'Neural_Networks': 572,\n",
       "         'Probabilistic_Methods': 298,\n",
       "         'Rule_Learning': 126,\n",
       "         'Case_Based': 209,\n",
       "         'Genetic_Algorithms': 292,\n",
       "         'Theory': 246,\n",
       "         'Reinforcement_Learning': 152})"
      ]
     },
     "execution_count": 20,
     "metadata": {},
     "output_type": "execute_result"
    }
   ],
   "source": [
    "from collections import Counter\n",
    "\n",
    "Counter(train_subjects)"
   ]
  },
  {
   "cell_type": "code",
   "execution_count": 21,
   "metadata": {},
   "outputs": [],
   "source": [
    "# Convert to numeric labels\n",
    "le = preprocessing.LabelBinarizer()\n",
    "train_targets = le.fit_transform(train_subjects)\n",
    "val_targets = le.transform(val_subjects)\n",
    "test_targets = le.transform(test_subjects)"
   ]
  },
  {
   "cell_type": "code",
   "execution_count": 22,
   "metadata": {},
   "outputs": [],
   "source": [
    "# Create the GAT model\n",
    "generator = FullBatchNodeGenerator(SG, method=\"gat\")"
   ]
  },
  {
   "cell_type": "code",
   "execution_count": 23,
   "metadata": {},
   "outputs": [],
   "source": [
    "train_gen = generator.flow(train_subjects.index, train_targets)"
   ]
  },
  {
   "cell_type": "code",
   "execution_count": 24,
   "metadata": {},
   "outputs": [],
   "source": [
    "gat = GAT(\n",
    "    layer_sizes=[32, 32],\n",
    "    activations=[\"relu\", \"relu\"],\n",
    "    attn_heads=8,\n",
    "    generator=generator,\n",
    "    in_dropout=0.5,\n",
    "    attn_dropout=0.5,\n",
    "    normalize=None,\n",
    ")"
   ]
  },
  {
   "cell_type": "code",
   "execution_count": 25,
   "metadata": {},
   "outputs": [],
   "source": [
    "x_inp, x_out = gat.in_out_tensors()"
   ]
  },
  {
   "cell_type": "code",
   "execution_count": 26,
   "metadata": {},
   "outputs": [],
   "source": [
    "predictions = layers.Dense(units=train_targets.shape[1], activation=\"softmax\")(x_out)"
   ]
  },
  {
   "cell_type": "code",
   "execution_count": 27,
   "metadata": {},
   "outputs": [],
   "source": [
    "model = Model(inputs=x_inp, outputs= predictions)\n",
    "model.compile(\n",
    "    optimizer=optimizers.Adam( learning_rate=0.005 ),\n",
    "    loss=losses.categorical_crossentropy,\n",
    "    metrics=[\"acc\"],\n",
    ")"
   ]
  },
  {
   "cell_type": "code",
   "execution_count": 28,
   "metadata": {},
   "outputs": [
    {
     "name": "stdout",
     "output_type": "stream",
     "text": [
      "Model: \"model_1\"\n",
      "__________________________________________________________________________________________________\n",
      " Layer (type)                   Output Shape         Param #     Connected to                     \n",
      "==================================================================================================\n",
      " input_4 (InputLayer)           [(1, 2708, 1433)]    0           []                               \n",
      "                                                                                                  \n",
      " input_6 (InputLayer)           [(1, None, 2)]       0           []                               \n",
      "                                                                                                  \n",
      " input_7 (InputLayer)           [(1, None)]          0           []                               \n",
      "                                                                                                  \n",
      " dropout_6 (Dropout)            (1, 2708, 1433)      0           ['input_4[0][0]']                \n",
      "                                                                                                  \n",
      " squeezed_sparse_conversion (Sq  (2708, 2708)        0           ['input_6[0][0]',                \n",
      " ueezedSparseConversion)                                          'input_7[0][0]']                \n",
      "                                                                                                  \n",
      " graph_attention_sparse (GraphA  (1, 2708, 256)      367618      ['dropout_6[0][0]',              \n",
      " ttentionSparse)                                                  'squeezed_sparse_conversion[0][0\n",
      "                                                                 ]']                              \n",
      "                                                                                                  \n",
      " dropout_7 (Dropout)            (1, 2708, 256)       0           ['graph_attention_sparse[0][0]'] \n",
      "                                                                                                  \n",
      " graph_attention_sparse_1 (Grap  (1, 2708, 32)       8290        ['dropout_7[0][0]',              \n",
      " hAttentionSparse)                                                'squeezed_sparse_conversion[0][0\n",
      "                                                                 ]']                              \n",
      "                                                                                                  \n",
      " input_5 (InputLayer)           [(1, None)]          0           []                               \n",
      "                                                                                                  \n",
      " gather_indices (GatherIndices)  (1, None, 32)       0           ['graph_attention_sparse_1[0][0]'\n",
      "                                                                 , 'input_5[0][0]']               \n",
      "                                                                                                  \n",
      " lambda_1 (Lambda)              (1, None, 32)        0           ['gather_indices[0][0]']         \n",
      "                                                                                                  \n",
      " dense_1 (Dense)                (1, None, 7)         231         ['lambda_1[0][0]']               \n",
      "                                                                                                  \n",
      "==================================================================================================\n",
      "Total params: 376,139\n",
      "Trainable params: 376,135\n",
      "Non-trainable params: 4\n",
      "__________________________________________________________________________________________________\n"
     ]
    }
   ],
   "source": [
    "model.summary()"
   ]
  },
  {
   "cell_type": "code",
   "execution_count": 62,
   "metadata": {},
   "outputs": [],
   "source": [
    "val_gen = generator.flow(val_subjects.index, val_targets)"
   ]
  },
  {
   "cell_type": "code",
   "execution_count": 63,
   "metadata": {},
   "outputs": [],
   "source": [
    "from tensorflow.keras.callbacks import EarlyStopping, ModelCheckpoint\n",
    "\n",
    "if not os.path.isdir(\"logs\"):\n",
    "    os.makedirs(\"logs\")\n",
    "es_callback = EarlyStopping(\n",
    "    monitor=\"val_acc\", patience=20\n",
    ")  # patience is the number of epochs to wait before early stopping in case of no further improvement\n",
    "mc_callback = ModelCheckpoint(\n",
    "    \"logs/best_model.h5\", monitor=\"val_acc\", save_best_only=True, save_weights_only=True\n",
    ")"
   ]
  },
  {
   "cell_type": "code",
   "execution_count": 64,
   "metadata": {},
   "outputs": [
    {
     "name": "stdout",
     "output_type": "stream",
     "text": [
      "Epoch 1/200\n",
      "1/1 - 6s - loss: 1.9738 - acc: 0.1530 - val_loss: 1.8096 - val_acc: 0.3300 - 6s/epoch - 6s/step\n",
      "Epoch 2/200\n",
      "1/1 - 0s - loss: 1.8179 - acc: 0.3156 - val_loss: 1.6691 - val_acc: 0.3153 - 302ms/epoch - 302ms/step\n",
      "Epoch 3/200\n",
      "1/1 - 0s - loss: 1.6926 - acc: 0.3224 - val_loss: 1.5326 - val_acc: 0.3227 - 300ms/epoch - 300ms/step\n",
      "Epoch 4/200\n",
      "1/1 - 0s - loss: 1.5822 - acc: 0.3367 - val_loss: 1.3907 - val_acc: 0.3744 - 370ms/epoch - 370ms/step\n",
      "Epoch 5/200\n",
      "1/1 - 0s - loss: 1.4505 - acc: 0.3731 - val_loss: 1.2456 - val_acc: 0.5837 - 439ms/epoch - 439ms/step\n",
      "Epoch 6/200\n",
      "1/1 - 0s - loss: 1.3319 - acc: 0.4665 - val_loss: 1.1174 - val_acc: 0.7365 - 478ms/epoch - 478ms/step\n",
      "Epoch 7/200\n",
      "1/1 - 0s - loss: 1.2259 - acc: 0.5958 - val_loss: 1.0034 - val_acc: 0.7906 - 387ms/epoch - 387ms/step\n",
      "Epoch 8/200\n",
      "1/1 - 0s - loss: 1.0725 - acc: 0.6950 - val_loss: 0.8887 - val_acc: 0.8300 - 359ms/epoch - 359ms/step\n",
      "Epoch 9/200\n",
      "1/1 - 0s - loss: 0.9926 - acc: 0.7177 - val_loss: 0.7772 - val_acc: 0.8448 - 423ms/epoch - 423ms/step\n",
      "Epoch 10/200\n",
      "1/1 - 0s - loss: 0.9110 - acc: 0.7372 - val_loss: 0.6807 - val_acc: 0.8522 - 380ms/epoch - 380ms/step\n",
      "Epoch 11/200\n",
      "1/1 - 0s - loss: 0.8057 - acc: 0.7493 - val_loss: 0.6043 - val_acc: 0.8645 - 472ms/epoch - 472ms/step\n",
      "Epoch 12/200\n",
      "1/1 - 0s - loss: 0.7385 - acc: 0.7557 - val_loss: 0.5462 - val_acc: 0.8719 - 379ms/epoch - 379ms/step\n",
      "Epoch 13/200\n",
      "1/1 - 0s - loss: 0.6858 - acc: 0.7842 - val_loss: 0.5025 - val_acc: 0.8744 - 383ms/epoch - 383ms/step\n",
      "Epoch 14/200\n",
      "1/1 - 0s - loss: 0.6730 - acc: 0.7863 - val_loss: 0.4719 - val_acc: 0.8793 - 359ms/epoch - 359ms/step\n",
      "Epoch 15/200\n",
      "1/1 - 0s - loss: 0.5510 - acc: 0.8459 - val_loss: 0.4463 - val_acc: 0.8818 - 339ms/epoch - 339ms/step\n",
      "Epoch 16/200\n",
      "1/1 - 1s - loss: 0.5581 - acc: 0.8317 - val_loss: 0.4264 - val_acc: 0.8941 - 563ms/epoch - 563ms/step\n",
      "Epoch 17/200\n",
      "1/1 - 0s - loss: 0.5729 - acc: 0.8285 - val_loss: 0.4124 - val_acc: 0.8966 - 353ms/epoch - 353ms/step\n",
      "Epoch 18/200\n",
      "1/1 - 0s - loss: 0.5158 - acc: 0.8459 - val_loss: 0.4038 - val_acc: 0.8966 - 280ms/epoch - 280ms/step\n",
      "Epoch 19/200\n",
      "1/1 - 0s - loss: 0.4941 - acc: 0.8507 - val_loss: 0.3976 - val_acc: 0.8966 - 275ms/epoch - 275ms/step\n",
      "Epoch 20/200\n",
      "1/1 - 0s - loss: 0.4781 - acc: 0.8491 - val_loss: 0.3942 - val_acc: 0.9015 - 342ms/epoch - 342ms/step\n",
      "Epoch 21/200\n",
      "1/1 - 0s - loss: 0.4609 - acc: 0.8580 - val_loss: 0.3928 - val_acc: 0.8990 - 288ms/epoch - 288ms/step\n",
      "Epoch 22/200\n",
      "1/1 - 0s - loss: 0.4681 - acc: 0.8639 - val_loss: 0.3899 - val_acc: 0.8990 - 291ms/epoch - 291ms/step\n",
      "Epoch 23/200\n",
      "1/1 - 1s - loss: 0.4260 - acc: 0.8686 - val_loss: 0.3898 - val_acc: 0.8966 - 531ms/epoch - 531ms/step\n",
      "Epoch 24/200\n",
      "1/1 - 0s - loss: 0.3971 - acc: 0.8781 - val_loss: 0.3910 - val_acc: 0.8966 - 352ms/epoch - 352ms/step\n",
      "Epoch 25/200\n",
      "1/1 - 0s - loss: 0.4159 - acc: 0.8686 - val_loss: 0.3893 - val_acc: 0.8966 - 283ms/epoch - 283ms/step\n",
      "Epoch 26/200\n",
      "1/1 - 0s - loss: 0.3877 - acc: 0.8797 - val_loss: 0.3854 - val_acc: 0.8990 - 285ms/epoch - 285ms/step\n",
      "Epoch 27/200\n",
      "1/1 - 0s - loss: 0.3633 - acc: 0.8918 - val_loss: 0.3817 - val_acc: 0.9039 - 341ms/epoch - 341ms/step\n",
      "Epoch 28/200\n",
      "1/1 - 0s - loss: 0.3776 - acc: 0.8865 - val_loss: 0.3786 - val_acc: 0.9015 - 284ms/epoch - 284ms/step\n",
      "Epoch 29/200\n",
      "1/1 - 0s - loss: 0.3486 - acc: 0.8876 - val_loss: 0.3773 - val_acc: 0.9015 - 273ms/epoch - 273ms/step\n",
      "Epoch 30/200\n",
      "1/1 - 0s - loss: 0.3673 - acc: 0.8855 - val_loss: 0.3732 - val_acc: 0.8966 - 426ms/epoch - 426ms/step\n",
      "Epoch 31/200\n",
      "1/1 - 0s - loss: 0.3465 - acc: 0.8876 - val_loss: 0.3697 - val_acc: 0.9015 - 293ms/epoch - 293ms/step\n",
      "Epoch 32/200\n",
      "1/1 - 0s - loss: 0.3394 - acc: 0.8945 - val_loss: 0.3665 - val_acc: 0.9015 - 278ms/epoch - 278ms/step\n",
      "Epoch 33/200\n",
      "1/1 - 0s - loss: 0.3182 - acc: 0.8992 - val_loss: 0.3651 - val_acc: 0.9064 - 363ms/epoch - 363ms/step\n",
      "Epoch 34/200\n",
      "1/1 - 0s - loss: 0.3193 - acc: 0.8960 - val_loss: 0.3647 - val_acc: 0.9039 - 276ms/epoch - 276ms/step\n",
      "Epoch 35/200\n",
      "1/1 - 0s - loss: 0.3018 - acc: 0.9055 - val_loss: 0.3639 - val_acc: 0.8990 - 290ms/epoch - 290ms/step\n",
      "Epoch 36/200\n",
      "1/1 - 0s - loss: 0.3425 - acc: 0.8887 - val_loss: 0.3625 - val_acc: 0.9015 - 298ms/epoch - 298ms/step\n",
      "Epoch 37/200\n",
      "1/1 - 0s - loss: 0.3108 - acc: 0.9055 - val_loss: 0.3604 - val_acc: 0.8990 - 336ms/epoch - 336ms/step\n",
      "Epoch 38/200\n",
      "1/1 - 0s - loss: 0.2983 - acc: 0.9061 - val_loss: 0.3597 - val_acc: 0.9015 - 354ms/epoch - 354ms/step\n",
      "Epoch 39/200\n",
      "1/1 - 0s - loss: 0.3047 - acc: 0.9055 - val_loss: 0.3601 - val_acc: 0.8990 - 336ms/epoch - 336ms/step\n",
      "Epoch 40/200\n",
      "1/1 - 0s - loss: 0.2918 - acc: 0.9034 - val_loss: 0.3610 - val_acc: 0.8990 - 290ms/epoch - 290ms/step\n",
      "Epoch 41/200\n",
      "1/1 - 0s - loss: 0.2852 - acc: 0.9066 - val_loss: 0.3625 - val_acc: 0.8966 - 331ms/epoch - 331ms/step\n",
      "Epoch 42/200\n",
      "1/1 - 0s - loss: 0.2854 - acc: 0.9040 - val_loss: 0.3628 - val_acc: 0.8941 - 279ms/epoch - 279ms/step\n",
      "Epoch 43/200\n",
      "1/1 - 0s - loss: 0.2741 - acc: 0.9119 - val_loss: 0.3626 - val_acc: 0.8916 - 336ms/epoch - 336ms/step\n",
      "Epoch 44/200\n",
      "1/1 - 0s - loss: 0.2879 - acc: 0.9061 - val_loss: 0.3630 - val_acc: 0.8916 - 372ms/epoch - 372ms/step\n",
      "Epoch 45/200\n",
      "1/1 - 0s - loss: 0.2718 - acc: 0.9108 - val_loss: 0.3632 - val_acc: 0.8892 - 418ms/epoch - 418ms/step\n",
      "Epoch 46/200\n",
      "1/1 - 0s - loss: 0.2479 - acc: 0.9203 - val_loss: 0.3642 - val_acc: 0.8966 - 293ms/epoch - 293ms/step\n",
      "Epoch 47/200\n",
      "1/1 - 0s - loss: 0.2651 - acc: 0.9098 - val_loss: 0.3643 - val_acc: 0.8916 - 290ms/epoch - 290ms/step\n",
      "Epoch 48/200\n",
      "1/1 - 0s - loss: 0.2668 - acc: 0.9156 - val_loss: 0.3659 - val_acc: 0.8941 - 277ms/epoch - 277ms/step\n",
      "Epoch 49/200\n",
      "1/1 - 0s - loss: 0.2663 - acc: 0.9124 - val_loss: 0.3698 - val_acc: 0.8916 - 279ms/epoch - 279ms/step\n",
      "Epoch 50/200\n",
      "1/1 - 0s - loss: 0.2708 - acc: 0.9119 - val_loss: 0.3750 - val_acc: 0.8916 - 282ms/epoch - 282ms/step\n",
      "Epoch 51/200\n",
      "1/1 - 0s - loss: 0.2649 - acc: 0.9077 - val_loss: 0.3778 - val_acc: 0.8867 - 270ms/epoch - 270ms/step\n",
      "Epoch 52/200\n",
      "1/1 - 0s - loss: 0.2640 - acc: 0.9092 - val_loss: 0.3795 - val_acc: 0.8892 - 329ms/epoch - 329ms/step\n",
      "Epoch 53/200\n",
      "1/1 - 0s - loss: 0.2418 - acc: 0.9219 - val_loss: 0.3794 - val_acc: 0.8916 - 328ms/epoch - 328ms/step\n"
     ]
    }
   ],
   "source": [
    "history = model.fit(\n",
    "    train_gen,\n",
    "    epochs=200,\n",
    "    validation_data=val_gen,\n",
    "    verbose=2,\n",
    "    shuffle=False,  # this should be False, since shuffling data means shuffling the whole graph\n",
    "    callbacks=[es_callback, mc_callback],\n",
    ")"
   ]
  },
  {
   "cell_type": "code",
   "execution_count": 65,
   "metadata": {},
   "outputs": [
    {
     "data": {
      "image/png": "[encoded data removed]",
      "text/plain": [
       "<Figure size 700x800 with 2 Axes>"
      ]
     },
     "metadata": {},
     "output_type": "display_data"
    }
   ],
   "source": [
    "sg.utils.plot_history(history)"
   ]
  },
  {
   "cell_type": "code",
   "execution_count": 66,
   "metadata": {},
   "outputs": [],
   "source": [
    "model.load_weights(\"logs/best_model.h5\")"
   ]
  },
  {
   "cell_type": "code",
   "execution_count": 67,
   "metadata": {},
   "outputs": [],
   "source": [
    "test_gen = generator.flow(test_subjects.index, test_targets)"
   ]
  },
  {
   "cell_type": "code",
   "execution_count": 68,
   "metadata": {},
   "outputs": [
    {
     "name": "stdout",
     "output_type": "stream",
     "text": [
      "1/1 [==============================] - 0s 123ms/step - loss: 0.3362 - acc: 0.8796\n",
      "\n",
      "Test Set Metrics:\n",
      "\tloss: 0.3362\n",
      "\tacc: 0.8796\n"
     ]
    }
   ],
   "source": [
    "test_metrics = model.evaluate(test_gen)\n",
    "print(\"\\nTest Set Metrics:\")\n",
    "for name, val in zip(model.metrics_names, test_metrics):\n",
    "    print(\"\\t{}: {:0.4f}\".format(name, val))"
   ]
  },
  {
   "attachments": {},
   "cell_type": "markdown",
   "metadata": {},
   "source": [
    "### Benchmark"
   ]
  },
  {
   "cell_type": "code",
   "execution_count": 69,
   "metadata": {},
   "outputs": [
    {
     "name": "stdout",
     "output_type": "stream",
     "text": [
      "1/1 [==============================] - 1s 568ms/step\n"
     ]
    }
   ],
   "source": [
    "# Prediction on the whole dataset\n",
    "all_nodes = node_subjects.index\n",
    "all_mapper = generator.flow(all_nodes)\n",
    "all_predictions = model.predict(all_mapper)"
   ]
  },
  {
   "cell_type": "code",
   "execution_count": 70,
   "metadata": {},
   "outputs": [],
   "source": [
    "# Inverse transform the predictions to get the node labels\n",
    "node_predictions = le.inverse_transform(all_predictions.squeeze())"
   ]
  },
  {
   "cell_type": "code",
   "execution_count": 71,
   "metadata": {},
   "outputs": [
    {
     "name": "stdout",
     "output_type": "stream",
     "text": [
      "F-1 score:  0.9194977843426884\n"
     ]
    }
   ],
   "source": [
    "# Calculate benchmark metrics\n",
    "df = pd.DataFrame({\"Predicted\": node_predictions, \"True\": node_subjects})\n",
    "df.head(20)\n",
    "\n",
    "y_pred = df['Predicted']\n",
    "y_true = df['True']\n",
    "\n",
    "precision, recall, f1, accuracy, cm, cr = calculate_metrics(y_true, y_pred)\n",
    "\n",
    "print(\"F-1 score: \", f1)\n"
   ]
  },
  {
   "cell_type": "code",
   "execution_count": null,
   "metadata": {},
   "outputs": [],
   "source": []
  }
 ],
 "metadata": {
  "kernelspec": {
   "display_name": "Python 3.10.4 ('rse-preliminary-analysis')",
   "language": "python",
   "name": "python3"
  },
  "language_info": {
   "codemirror_mode": {
    "name": "ipython",
    "version": 3
   },
   "file_extension": ".py",
   "mimetype": "text/x-python",
   "name": "python",
   "nbconvert_exporter": "python",
   "pygments_lexer": "ipython3",
   "version": "3.10.4"
  },
  "vscode": {
   "interpreter": {
    "hash": "780fdad1c7157e03b59df34e102fe78f9e4153f869c3da8fea36f0f414933e4e"
   }
  }
 },
 "nbformat": 4,
 "nbformat_minor": 0
}
